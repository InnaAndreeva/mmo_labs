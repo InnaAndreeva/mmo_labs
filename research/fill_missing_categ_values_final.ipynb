{
  "nbformat": 4,
  "nbformat_minor": 0,
  "metadata": {
    "colab": {
      "name": "fill_missing_categ_values.ipynb",
      "provenance": [],
      "toc_visible": true
    },
    "kernelspec": {
      "name": "python3",
      "display_name": "Python 3"
    }
  },
  "cells": [
    {
      "cell_type": "markdown",
      "metadata": {
        "id": "N7fSPKbJERca"
      },
      "source": [
        "##Заполнение пропущенных значений\r\n",
        "В данном ноутбуке исследую различные техники заполнения пропусков в категориальных колонках набора данных"
      ]
    },
    {
      "cell_type": "code",
      "metadata": {
        "id": "bZrT-BsS4nja"
      },
      "source": [
        "from datetime import datetime\r\n",
        "import graphviz\r\n",
        "import matplotlib.pyplot as plt\r\n",
        "import numpy as np\r\n",
        "import pandas as pd\r\n",
        "from sklearn.linear_model import Lasso, LinearRegression\r\n",
        "from sklearn.metrics import mean_absolute_error\r\n",
        "from sklearn.metrics import median_absolute_error, r2_score\r\n",
        "from sklearn.model_selection import GridSearchCV\r\n",
        "from sklearn.model_selection import ShuffleSplit\r\n",
        "from sklearn.model_selection import train_test_split\r\n",
        "from sklearn.preprocessing import StandardScaler\r\n",
        "from sklearn.svm import NuSVR\r\n",
        "from sklearn.tree import DecisionTreeRegressor\r\n",
        "from sklearn.tree import export_graphviz, plot_tree\r\n",
        "import seaborn as sns\r\n",
        "from sklearn.impute import SimpleImputer\r\n",
        "from sklearn.preprocessing import LabelEncoder\r\n",
        "from sklearn.linear_model import Lasso, LinearRegression\r\n",
        "from sklearn.metrics import mean_absolute_error\r\n",
        "\r\n",
        "from sklearn.metrics import median_absolute_error, r2_score, mean_squared_error\r\n",
        "from sklearn.model_selection import GridSearchCV\r\n",
        "from sklearn.model_selection import ShuffleSplit\r\n",
        "from sklearn.model_selection import train_test_split\r\n",
        "from sklearn.preprocessing import StandardScaler, MinMaxScaler, Normalizer\r\n",
        "from sklearn.svm import SVC, NuSVC, LinearSVC, OneClassSVM, SVR, NuSVR, LinearSVR\r\n",
        "from sklearn.tree import DecisionTreeRegressor\r\n",
        "from sklearn.tree import export_graphviz, plot_tree\r\n",
        "from sklearn.ensemble import RandomForestRegressor\r\n",
        "from sklearn.ensemble import GradientBoostingRegressor\r\n",
        "from sklearn.ensemble import BaggingRegressor\r\n",
        "\r\n",
        "import missingno as msno\r\n",
        "\r\n",
        "%matplotlib inline"
      ],
      "execution_count": 2,
      "outputs": []
    },
    {
      "cell_type": "code",
      "metadata": {
        "colab": {
          "base_uri": "https://localhost:8080/",
          "height": 312
        },
        "id": "oRGxMe6j43Fq",
        "outputId": "8c6c9d57-1ff1-4d8d-81b6-b02554185b8b"
      },
      "source": [
        "data = pd.read_csv('/content/googleplaystore.csv')\r\n",
        "data.head()"
      ],
      "execution_count": 3,
      "outputs": [
        {
          "output_type": "execute_result",
          "data": {
            "text/html": [
              "<div>\n",
              "<style scoped>\n",
              "    .dataframe tbody tr th:only-of-type {\n",
              "        vertical-align: middle;\n",
              "    }\n",
              "\n",
              "    .dataframe tbody tr th {\n",
              "        vertical-align: top;\n",
              "    }\n",
              "\n",
              "    .dataframe thead th {\n",
              "        text-align: right;\n",
              "    }\n",
              "</style>\n",
              "<table border=\"1\" class=\"dataframe\">\n",
              "  <thead>\n",
              "    <tr style=\"text-align: right;\">\n",
              "      <th></th>\n",
              "      <th>App</th>\n",
              "      <th>Category</th>\n",
              "      <th>Rating</th>\n",
              "      <th>Reviews</th>\n",
              "      <th>Size</th>\n",
              "      <th>Installs</th>\n",
              "      <th>Type</th>\n",
              "      <th>Price</th>\n",
              "      <th>Content Rating</th>\n",
              "      <th>Genres</th>\n",
              "      <th>Last Updated</th>\n",
              "      <th>Current Ver</th>\n",
              "      <th>Android Ver</th>\n",
              "    </tr>\n",
              "  </thead>\n",
              "  <tbody>\n",
              "    <tr>\n",
              "      <th>0</th>\n",
              "      <td>Photo Editor &amp; Candy Camera &amp; Grid &amp; ScrapBook</td>\n",
              "      <td>ART_AND_DESIGN</td>\n",
              "      <td>4.1</td>\n",
              "      <td>159</td>\n",
              "      <td>19M</td>\n",
              "      <td>10,000+</td>\n",
              "      <td>Free</td>\n",
              "      <td>0</td>\n",
              "      <td>Everyone</td>\n",
              "      <td>Art &amp; Design</td>\n",
              "      <td>January 7, 2018</td>\n",
              "      <td>1.0.0</td>\n",
              "      <td>4.0.3 and up</td>\n",
              "    </tr>\n",
              "    <tr>\n",
              "      <th>1</th>\n",
              "      <td>Coloring book moana</td>\n",
              "      <td>ART_AND_DESIGN</td>\n",
              "      <td>3.9</td>\n",
              "      <td>967</td>\n",
              "      <td>14M</td>\n",
              "      <td>500,000+</td>\n",
              "      <td>Free</td>\n",
              "      <td>0</td>\n",
              "      <td>Everyone</td>\n",
              "      <td>Art &amp; Design;Pretend Play</td>\n",
              "      <td>January 15, 2018</td>\n",
              "      <td>2.0.0</td>\n",
              "      <td>4.0.3 and up</td>\n",
              "    </tr>\n",
              "    <tr>\n",
              "      <th>2</th>\n",
              "      <td>U Launcher Lite – FREE Live Cool Themes, Hide ...</td>\n",
              "      <td>ART_AND_DESIGN</td>\n",
              "      <td>4.7</td>\n",
              "      <td>87510</td>\n",
              "      <td>8.7M</td>\n",
              "      <td>5,000,000+</td>\n",
              "      <td>Free</td>\n",
              "      <td>0</td>\n",
              "      <td>Everyone</td>\n",
              "      <td>Art &amp; Design</td>\n",
              "      <td>August 1, 2018</td>\n",
              "      <td>1.2.4</td>\n",
              "      <td>4.0.3 and up</td>\n",
              "    </tr>\n",
              "    <tr>\n",
              "      <th>3</th>\n",
              "      <td>Sketch - Draw &amp; Paint</td>\n",
              "      <td>ART_AND_DESIGN</td>\n",
              "      <td>4.5</td>\n",
              "      <td>215644</td>\n",
              "      <td>25M</td>\n",
              "      <td>50,000,000+</td>\n",
              "      <td>Free</td>\n",
              "      <td>0</td>\n",
              "      <td>Teen</td>\n",
              "      <td>Art &amp; Design</td>\n",
              "      <td>June 8, 2018</td>\n",
              "      <td>Varies with device</td>\n",
              "      <td>4.2 and up</td>\n",
              "    </tr>\n",
              "    <tr>\n",
              "      <th>4</th>\n",
              "      <td>Pixel Draw - Number Art Coloring Book</td>\n",
              "      <td>ART_AND_DESIGN</td>\n",
              "      <td>4.3</td>\n",
              "      <td>967</td>\n",
              "      <td>2.8M</td>\n",
              "      <td>100,000+</td>\n",
              "      <td>Free</td>\n",
              "      <td>0</td>\n",
              "      <td>Everyone</td>\n",
              "      <td>Art &amp; Design;Creativity</td>\n",
              "      <td>June 20, 2018</td>\n",
              "      <td>1.1</td>\n",
              "      <td>4.4 and up</td>\n",
              "    </tr>\n",
              "  </tbody>\n",
              "</table>\n",
              "</div>"
            ],
            "text/plain": [
              "                                                 App  ...   Android Ver\n",
              "0     Photo Editor & Candy Camera & Grid & ScrapBook  ...  4.0.3 and up\n",
              "1                                Coloring book moana  ...  4.0.3 and up\n",
              "2  U Launcher Lite – FREE Live Cool Themes, Hide ...  ...  4.0.3 and up\n",
              "3                              Sketch - Draw & Paint  ...    4.2 and up\n",
              "4              Pixel Draw - Number Art Coloring Book  ...    4.4 and up\n",
              "\n",
              "[5 rows x 13 columns]"
            ]
          },
          "metadata": {
            "tags": []
          },
          "execution_count": 3
        }
      ]
    },
    {
      "cell_type": "code",
      "metadata": {
        "colab": {
          "base_uri": "https://localhost:8080/"
        },
        "id": "aYJRY8va43Hy",
        "outputId": "864581a8-f5c1-41ed-9e58-d594b1be9935"
      },
      "source": [
        "data = data.drop([10472])\r\n",
        "data.shape"
      ],
      "execution_count": 4,
      "outputs": [
        {
          "output_type": "execute_result",
          "data": {
            "text/plain": [
              "(10840, 13)"
            ]
          },
          "metadata": {
            "tags": []
          },
          "execution_count": 4
        }
      ]
    },
    {
      "cell_type": "code",
      "metadata": {
        "colab": {
          "base_uri": "https://localhost:8080/"
        },
        "id": "Kb5etZoz43Lh",
        "outputId": "6e964b95-7d80-4d82-d6e8-0e8860843483"
      },
      "source": [
        "data.isnull().sum()"
      ],
      "execution_count": 5,
      "outputs": [
        {
          "output_type": "execute_result",
          "data": {
            "text/plain": [
              "App                  0\n",
              "Category             0\n",
              "Rating            1474\n",
              "Reviews              0\n",
              "Size                 0\n",
              "Installs             0\n",
              "Type                 1\n",
              "Price                0\n",
              "Content Rating       0\n",
              "Genres               0\n",
              "Last Updated         0\n",
              "Current Ver          8\n",
              "Android Ver          2\n",
              "dtype: int64"
            ]
          },
          "metadata": {
            "tags": []
          },
          "execution_count": 5
        }
      ]
    },
    {
      "cell_type": "code",
      "metadata": {
        "id": "aaUANavF43NE"
      },
      "source": [
        "# Эти признаки выкину, тк они не пригодятся для обучения модели\r\n",
        "data.drop(labels = ['Last Updated','Current Ver','Android Ver','App'], axis = 1, inplace = True)"
      ],
      "execution_count": 5,
      "outputs": []
    },
    {
      "cell_type": "code",
      "metadata": {
        "id": "w7V15ji_43Q9"
      },
      "source": [
        "# Преобразую Type в бинарные значения\r\n",
        "#def type_cat(types):\r\n",
        "#    if types == 'Free':\r\n",
        "#        return 0\r\n",
        "#    else:\r\n",
        "#        return 1\r\n",
        "\r\n",
        "#data['Type'] = data['Type'].map(type_cat)"
      ],
      "execution_count": 7,
      "outputs": []
    },
    {
      "cell_type": "code",
      "metadata": {
        "id": "x6Us1yUw43Se"
      },
      "source": [
        "# Очистка признака size \r\n",
        "def change_size(size):\r\n",
        "    if 'M' in size:\r\n",
        "        x = size[:-1]\r\n",
        "        x = float(x)*1000000\r\n",
        "        return(x)\r\n",
        "    elif 'k' == size[-1:]:\r\n",
        "        x = size[:-1]\r\n",
        "        x = float(x)*1000\r\n",
        "        return(x)\r\n",
        "    else:\r\n",
        "        return None\r\n",
        "\r\n",
        "data[\"Size\"] = data[\"Size\"].map(change_size)"
      ],
      "execution_count": 6,
      "outputs": []
    },
    {
      "cell_type": "code",
      "metadata": {
        "id": "xTopNJE743ZV"
      },
      "source": [
        "# Очистка признака Installs\r\n",
        "data['Installs']=data['Installs'].apply(lambda x: x.strip('+'))\r\n",
        "data['Installs']=data['Installs'].apply(lambda x: x.replace(',',''))\r\n",
        "data['Installs']=data['Installs'].replace('Free',np.nan)\r\n",
        "data['Installs'] = data['Installs'].astype(float)"
      ],
      "execution_count": 7,
      "outputs": []
    },
    {
      "cell_type": "code",
      "metadata": {
        "id": "UlMtK1sU43cB"
      },
      "source": [
        "# Очистка признака Price\r\n",
        "data['Price'] = data['Price'].apply(lambda x: x.replace('$',''))\r\n",
        "data['Price']=pd.to_numeric(data['Price'])"
      ],
      "execution_count": 8,
      "outputs": []
    },
    {
      "cell_type": "code",
      "metadata": {
        "id": "BX-DVkhr640A"
      },
      "source": [
        "# преобразую reviews к numeric\r\n",
        "data['Reviews'] = data['Reviews'].astype(float)"
      ],
      "execution_count": 9,
      "outputs": []
    },
    {
      "cell_type": "code",
      "metadata": {
        "id": "1rlN59pF43hu"
      },
      "source": [
        "# Закодирую категориальные признаки в числовые\r\n",
        "le = LabelEncoder()\r\n",
        "content_rating = data['Content Rating']\r\n",
        "\r\n",
        "category = le.fit_transform(data['Category'].dropna())\r\n",
        "genres = le.fit_transform(data['Genres'].dropna())\r\n",
        "cont_r = le.fit_transform(data['Content Rating'].dropna())\r\n",
        "data['Category_num'] = category\r\n",
        "data['Genres_num'] = genres\r\n",
        "data['Content Rating'] = cont_r"
      ],
      "execution_count": 10,
      "outputs": []
    },
    {
      "cell_type": "code",
      "metadata": {
        "colab": {
          "base_uri": "https://localhost:8080/"
        },
        "id": "z_W14q7M43kF",
        "outputId": "f2b1ef6a-08f8-47b1-8c7e-071fc3279a2a"
      },
      "source": [
        "data.isnull().sum()"
      ],
      "execution_count": 11,
      "outputs": [
        {
          "output_type": "execute_result",
          "data": {
            "text/plain": [
              "Category             0\n",
              "Rating            1474\n",
              "Reviews              0\n",
              "Size              1695\n",
              "Installs             0\n",
              "Type                 1\n",
              "Price                0\n",
              "Content Rating       0\n",
              "Genres               0\n",
              "Category_num         0\n",
              "Genres_num           0\n",
              "dtype: int64"
            ]
          },
          "metadata": {
            "tags": []
          },
          "execution_count": 11
        }
      ]
    },
    {
      "cell_type": "markdown",
      "metadata": {
        "id": "0u4b_7KKJXTa"
      },
      "source": [
        "Заполню признаки Rating и Size средним значением. Так как его выбрала ранее."
      ]
    },
    {
      "cell_type": "code",
      "metadata": {
        "colab": {
          "base_uri": "https://localhost:8080/"
        },
        "id": "R-jw6v5d43nq",
        "outputId": "78efaa17-d35a-4dc9-f917-4ebc80ef0c70"
      },
      "source": [
        "mean_imp = SimpleImputer(strategy=\"mean\")\r\n",
        "new_df = data.copy()\r\n",
        "\r\n",
        "new_df[\"Rating\"] = mean_imp.fit_transform(new_df[[\"Rating\"]])\r\n",
        "new_df[\"Size\"] = mean_imp.fit_transform(new_df[[\"Size\"]])\r\n",
        "new_df.isnull().sum()"
      ],
      "execution_count": 12,
      "outputs": [
        {
          "output_type": "execute_result",
          "data": {
            "text/plain": [
              "Category          0\n",
              "Rating            0\n",
              "Reviews           0\n",
              "Size              0\n",
              "Installs          0\n",
              "Type              1\n",
              "Price             0\n",
              "Content Rating    0\n",
              "Genres            0\n",
              "Category_num      0\n",
              "Genres_num        0\n",
              "dtype: int64"
            ]
          },
          "metadata": {
            "tags": []
          },
          "execution_count": 12
        }
      ]
    },
    {
      "cell_type": "code",
      "metadata": {
        "colab": {
          "base_uri": "https://localhost:8080/"
        },
        "id": "vHXSCC0K-HKP",
        "outputId": "68eb44d8-c804-4ba0-f557-c62ee45cc2db"
      },
      "source": [
        "new_df.shape"
      ],
      "execution_count": null,
      "outputs": [
        {
          "output_type": "execute_result",
          "data": {
            "text/plain": [
              "(10840, 11)"
            ]
          },
          "metadata": {
            "tags": []
          },
          "execution_count": 14
        }
      ]
    },
    {
      "cell_type": "markdown",
      "metadata": {
        "id": "gR7mA1UfJngs"
      },
      "source": [
        "Намеренно внесем рандомно пропуски в категориальном признаке Type."
      ]
    },
    {
      "cell_type": "code",
      "metadata": {
        "colab": {
          "base_uri": "https://localhost:8080/"
        },
        "id": "sh06f0Zy43pV",
        "outputId": "d844edcc-6beb-4592-e899-b27a7553ad48"
      },
      "source": [
        "from random import seed\r\n",
        "from random import randint\r\n",
        "# seed random number generator\r\n",
        "seed(1)\r\n",
        "rows_indexes = []\r\n",
        "# generate some integers\r\n",
        "for _ in range(1300):\r\n",
        "  value = randint(0, 10840)\r\n",
        "  rows_indexes.append(value)\r\n",
        "print(rows_indexes)"
      ],
      "execution_count": 13,
      "outputs": [
        {
          "output_type": "stream",
          "text": [
            "[2201, 9325, 1033, 4179, 1931, 8117, 7364, 7737, 10675, 6219, 3439, 1537, 7993, 464, 6386, 7090, 9952, 34, 7297, 4363, 3748, 9685, 1674, 5200, 501, 365, 416, 10642, 8870, 150, 6245, 3548, 6915, 475, 8644, 3632, 7174, 8123, 9058, 3818, 5663, 3782, 3584, 7530, 4747, 352, 6818, 9116, 10523, 1638, 3045, 10311, 4856, 1980, 5450, 8205, 6915, 8318, 3110, 4970, 4655, 9626, 8181, 8278, 6444, 9650, 565, 7868, 3977, 6623, 6788, 2834, 6014, 8991, 6139, 1416, 7191, 8330, 1768, 2682, 8535, 6443, 6070, 8023, 484, 7689, 712, 5054, 10073, 9718, 9472, 6448, 10603, 2791, 2762, 8228, 3718, 201, 3268, 8841, 8983, 3803, 6626, 8417, 5633, 9466, 5788, 7522, 4411, 10800, 8978, 9976, 93, 6286, 8396, 2117, 8498, 9197, 3366, 6981, 919, 7882, 5975, 9338, 9083, 3274, 8269, 6773, 7945, 5845, 6789, 5670, 25, 8822, 8849, 10215, 10034, 5425, 7506, 9828, 458, 3761, 10409, 2903, 9023, 9575, 2961, 1500, 9028, 4182, 531, 1154, 1363, 273, 7421, 238, 4607, 4088, 4401, 1793, 10236, 3024, 5643, 4756, 1138, 2743, 2615, 4181, 8640, 2754, 10758, 4471, 10620, 4824, 7449, 5275, 8134, 7762, 1870, 387, 5111, 6333, 5625, 6896, 3080, 4233, 1781, 4152, 8357, 3425, 9922, 7072, 341, 3692, 292, 6509, 2399, 578, 2625, 7301, 8295, 6990, 8924, 3614, 10334, 8463, 7386, 3656, 8583, 10625, 502, 6470, 9434, 5263, 10810, 10337, 6984, 963, 4892, 2059, 3475, 777, 5019, 1158, 1252, 5084, 4880, 2592, 6818, 9255, 4134, 2136, 138, 9186, 621, 9676, 3565, 9343, 7550, 2810, 10206, 8337, 613, 6192, 3283, 5684, 1622, 3371, 9394, 7093, 9689, 3180, 8066, 1710, 6390, 4850, 8259, 8188, 281, 5330, 10029, 6591, 4609, 296, 2571, 3290, 5369, 9229, 2214, 5555, 7032, 3490, 4366, 1579, 6213, 8972, 5633, 8754, 7938, 8724, 3844, 1070, 661, 1387, 2179, 2780, 2728, 8818, 3489, 4391, 5443, 9833, 8288, 4182, 6031, 5551, 5575, 1866, 4771, 3853, 9895, 8008, 2217, 9502, 9030, 1708, 5254, 641, 6661, 1199, 6229, 2413, 2048, 5585, 1879, 10079, 9624, 6193, 1255, 9351, 9015, 3665, 9272, 1339, 4370, 5978, 4842, 9247, 8753, 1872, 7500, 4541, 1765, 749, 4845, 202, 10054, 238, 1502, 6775, 1885, 655, 3078, 3926, 9614, 6897, 2654, 1893, 7387, 2742, 3955, 2604, 1684, 7128, 6197, 8895, 4817, 9014, 4151, 7815, 5152, 1640, 3401, 10683, 5200, 649, 446, 172, 4842, 9774, 5246, 7370, 6410, 5132, 6529, 1031, 1051, 5199, 9854, 7468, 1824, 4097, 3525, 10122, 8895, 7682, 5829, 4244, 3001, 8873, 3405, 5035, 3263, 4036, 5905, 1333, 4600, 1464, 7338, 1482, 10682, 9410, 10542, 5552, 3726, 6397, 5026, 672, 5361, 3060, 5189, 9486, 4961, 4027, 5477, 1653, 8916, 10017, 9486, 9764, 1508, 4015, 3607, 333, 3993, 6582, 1185, 4391, 9030, 1161, 1230, 352, 10410, 162, 4764, 5884, 8081, 7681, 2526, 1653, 8215, 5375, 1263, 8343, 2838, 2942, 2450, 2318, 5239, 5007, 1751, 8427, 9861, 4808, 2069, 3387, 2321, 8937, 520, 5178, 10215, 9059, 3365, 2918, 4897, 7088, 8806, 2586, 795, 4051, 4138, 1055, 7318, 7047, 8999, 4099, 8869, 7199, 8815, 7427, 178, 6483, 5548, 2810, 4226, 7959, 399, 10591, 6826, 9348, 309, 1021, 5815, 9503, 2265, 9724, 2050, 2269, 4245, 4536, 6517, 9241, 6571, 2820, 10034, 1462, 3826, 7962, 122, 2909, 8662, 5197, 8206, 10630, 7181, 10471, 3698, 3905, 5127, 8111, 7845, 3687, 6754, 5520, 9181, 10015, 10705, 4509, 10590, 3595, 789, 1172, 8383, 10572, 6040, 2612, 8382, 3339, 5108, 4894, 4908, 9049, 6088, 2706, 7614, 9741, 1392, 2019, 9930, 8420, 9359, 6180, 2888, 2552, 4105, 6991, 3565, 9330, 854, 8110, 6448, 10436, 5701, 6291, 8438, 2700, 8916, 666, 8588, 1481, 4180, 10296, 1655, 4383, 1371, 2279, 10107, 10808, 1343, 7291, 3948, 6264, 7092, 6508, 2699, 5332, 7178, 2069, 10197, 7994, 3473, 1952, 7065, 9841, 8749, 6688, 1934, 10821, 4841, 4549, 4066, 6207, 9164, 65, 3110, 8656, 7188, 9487, 344, 504, 10281, 9922, 3968, 4266, 3385, 2832, 4665, 2431, 8885, 3284, 4476, 5097, 9596, 4110, 7313, 2752, 8935, 5848, 8041, 6880, 1995, 3423, 9347, 6279, 3355, 4653, 1771, 395, 1934, 9327, 216, 8933, 4856, 10639, 2237, 1231, 8198, 6123, 9381, 5099, 7162, 8241, 5846, 8657, 5303, 13, 2029, 7246, 7365, 5737, 4993, 8835, 6543, 5560, 9362, 8065, 1852, 10611, 6185, 6265, 3340, 9124, 63, 4548, 10412, 9800, 8371, 3258, 7562, 9844, 8469, 6700, 5002, 2790, 7362, 10158, 8699, 3233, 5888, 8621, 57, 6376, 9492, 6977, 6639, 5505, 10184, 9575, 1109, 8072, 4057, 10491, 10629, 4765, 10316, 340, 6668, 10309, 2557, 10383, 6509, 4427, 2918, 1202, 9919, 165, 5725, 4334, 6736, 8916, 4975, 2491, 7570, 4249, 7938, 2779, 7653, 8361, 743, 4437, 8360, 1615, 9676, 6923, 1142, 5819, 1097, 10761, 7249, 323, 2689, 8309, 2648, 1524, 6585, 10419, 4518, 9912, 4987, 3422, 8652, 3403, 3886, 5471, 4408, 1123, 1226, 8572, 10793, 6032, 7666, 8380, 9136, 814, 2761, 4864, 10699, 9113, 4419, 5830, 9988, 3802, 6431, 9192, 6548, 2823, 7923, 4252, 10000, 5400, 3642, 4239, 9993, 4001, 10827, 500, 10198, 6596, 5186, 7074, 4070, 4408, 3111, 1188, 10254, 2713, 9488, 7267, 9526, 2427, 9932, 4292, 7526, 8627, 2662, 2271, 2262, 7220, 5916, 5075, 6565, 3940, 1897, 3378, 5005, 1117, 1743, 3729, 6504, 5265, 8066, 1637, 3059, 736, 906, 9789, 381, 3548, 568, 8101, 8659, 10046, 7246, 5610, 4498, 1934, 10047, 2829, 1560, 3638, 6548, 3821, 8110, 7369, 6191, 2762, 3796, 3862, 4647, 7578, 8962, 9501, 6383, 3471, 7400, 4225, 5408, 8131, 9725, 1817, 3503, 1291, 757, 252, 85, 7870, 5235, 6277, 9506, 4705, 3209, 6552, 2622, 10584, 2494, 499, 248, 6345, 2378, 8889, 935, 9252, 6217, 4164, 2129, 1302, 7583, 10684, 4970, 236, 581, 8797, 996, 8600, 2112, 701, 4482, 1924, 7086, 1491, 3114, 452, 8186, 10445, 2135, 4575, 3144, 7332, 6384, 5403, 10339, 4390, 4257, 10512, 10413, 3982, 4021, 986, 9632, 9674, 2871, 5728, 7020, 9918, 9179, 10459, 8555, 996, 5787, 8960, 6760, 8816, 3266, 8788, 6948, 1148, 4376, 10005, 1184, 4121, 2909, 1582, 2474, 961, 3331, 7014, 735, 865, 10438, 1494, 8402, 7686, 8210, 6066, 1626, 5123, 657, 2074, 8707, 543, 7263, 2100, 6474, 7308, 403, 8593, 4423, 1480, 4096, 5331, 1405, 4945, 560, 6295, 952, 4276, 5131, 2130, 4264, 6228, 1919, 4976, 1541, 6960, 4020, 8236, 9128, 3365, 5408, 5548, 8344, 6407, 9570, 7883, 1715, 2125, 10691, 7350, 8581, 9152, 9525, 8520, 8775, 495, 4773, 2572, 3276, 6067, 6377, 8537, 5312, 1595, 6709, 5658, 2070, 9419, 1062, 713, 4923, 10667, 8743, 5138, 6841, 4887, 5223, 5777, 4467, 5329, 8521, 8209, 141, 8620, 1996, 2437, 5195, 5334, 5366, 9389, 1127, 7402, 4581, 7859, 7440, 5966, 6234, 1280, 9485, 919, 2204, 798, 8580, 8063, 9430, 4127, 4020, 9400, 5548, 5924, 10543, 6064, 6595, 5036, 7611, 9801, 5577, 8718, 8315, 2749, 476, 2430, 4098, 3623, 9220, 2185, 1847, 3024, 6735, 10153, 820, 1625, 8940, 4353, 1752, 3347, 4287, 1094, 10356, 9358, 8624, 10502, 1286, 1192, 3561, 10538, 2840, 8380, 7079, 357, 9672, 6031, 7973, 4648, 3603, 3283, 9798, 8087, 3853, 6970, 7408, 6015, 8920, 3093, 7899, 1191, 4203, 6673, 3299, 135, 8716, 6237, 8426, 7980, 1251, 6614, 10089, 8356, 9474, 9578, 6972, 657, 5764, 7511, 104, 3109, 4904, 10519, 90, 8860, 1966, 4958, 8396, 5170, 8896, 10568, 9371, 9033, 4628, 8611, 6740, 8880, 8484, 6689, 9875, 10321, 9520, 5042, 7414, 4946, 2145, 8295, 7277, 9605, 2299, 9011, 2670, 4140, 10431, 157, 6949, 10838, 9271, 593, 6035, 6895, 6588, 4612, 10796, 300, 1482, 1475, 78, 6281, 4405, 7608, 4455, 6105, 10417, 7887, 5513, 6364, 7473, 1908, 7925, 5808, 2370, 6802, 2429, 297, 2819, 4263, 6025, 2082, 9659, 4704, 6765, 4225, 8417, 4706, 6893, 4483, 7102, 5503, 7959, 3530, 8050, 6584, 6965, 1497, 1055, 2121, 3377, 2451, 3755, 428, 1691, 4148, 2551, 7860, 1621, 6539, 10644, 3070, 49, 1460, 7007, 10025, 833, 9004, 3576, 8757, 6912, 5680, 770, 10675, 1690, 9057, 6875, 1943, 4347, 4567, 2933, 7859, 781, 3509, 10555, 1428, 6385, 2028, 7328, 4820, 8320, 8158, 6440, 1903, 9930, 7851, 1733, 2443, 6330, 10053, 3296, 2738, 8531, 4220, 6825, 8793, 4728, 8068, 10381, 8925, 3516, 10216, 5522, 7962, 1685, 140, 10768, 5683, 4383, 924, 8856, 10247, 7213, 4912, 1650, 3744, 8323, 4498, 4429, 4036]\n"
          ],
          "name": "stdout"
        }
      ]
    },
    {
      "cell_type": "code",
      "metadata": {
        "id": "8PntqqDY43ta"
      },
      "source": [
        "#new_df.Type=new_df.Type.astype(float)\r\n",
        "for index in rows_indexes:\r\n",
        "  new_df.at[index, 'Type'] = np.nan"
      ],
      "execution_count": 14,
      "outputs": []
    },
    {
      "cell_type": "code",
      "metadata": {
        "colab": {
          "base_uri": "https://localhost:8080/"
        },
        "id": "wey2UO2w43vk",
        "outputId": "0d388d55-86a7-4a54-d2e5-8384596bb475"
      },
      "source": [
        "new_df.isnull().sum()"
      ],
      "execution_count": 15,
      "outputs": [
        {
          "output_type": "execute_result",
          "data": {
            "text/plain": [
              "Category             0\n",
              "Rating               0\n",
              "Reviews              0\n",
              "Size                 0\n",
              "Installs             0\n",
              "Type              1234\n",
              "Price                0\n",
              "Content Rating       0\n",
              "Genres               0\n",
              "Category_num         0\n",
              "Genres_num           0\n",
              "dtype: int64"
            ]
          },
          "metadata": {
            "tags": []
          },
          "execution_count": 15
        }
      ]
    },
    {
      "cell_type": "markdown",
      "metadata": {
        "id": "zCplY3QqBlbN"
      },
      "source": [
        "##Frequent Categorical Imputation"
      ]
    },
    {
      "cell_type": "code",
      "metadata": {
        "id": "x4vulHHY43zZ"
      },
      "source": [
        "def impute_nan_most_frequent_category(DataFrame, ColName):\r\n",
        "    # .mode()[0] - gives first category name\r\n",
        "    most_frequent_category=DataFrame[ColName].mode()[0]\r\n",
        "    # replace nan values with most occured category\r\n",
        "    DataFrame[ColName + \"_Imputed\"] = DataFrame[ColName]\r\n",
        "    DataFrame[ColName + \"_Imputed\"].fillna(most_frequent_category,inplace=True)"
      ],
      "execution_count": 16,
      "outputs": []
    },
    {
      "cell_type": "code",
      "metadata": {
        "id": "cTqZZ41_BRvW"
      },
      "source": [
        "for Columns in ['Type']:\r\n",
        "    impute_nan_most_frequent_category(new_df, Columns)"
      ],
      "execution_count": 17,
      "outputs": []
    },
    {
      "cell_type": "code",
      "metadata": {
        "colab": {
          "base_uri": "https://localhost:8080/"
        },
        "id": "H6x_YqSHBRxU",
        "outputId": "39fa077e-aa95-417a-d497-c446d21d712a"
      },
      "source": [
        "new_df.isnull().sum()"
      ],
      "execution_count": 18,
      "outputs": [
        {
          "output_type": "execute_result",
          "data": {
            "text/plain": [
              "Category             0\n",
              "Rating               0\n",
              "Reviews              0\n",
              "Size                 0\n",
              "Installs             0\n",
              "Type              1234\n",
              "Price                0\n",
              "Content Rating       0\n",
              "Genres               0\n",
              "Category_num         0\n",
              "Genres_num           0\n",
              "Type_Imputed         0\n",
              "dtype: int64"
            ]
          },
          "metadata": {
            "tags": []
          },
          "execution_count": 18
        }
      ]
    },
    {
      "cell_type": "code",
      "metadata": {
        "colab": {
          "base_uri": "https://localhost:8080/"
        },
        "id": "6jUSYQCyBR2J",
        "outputId": "574d4337-cbb9-41cd-8f90-19fd664a8fa4"
      },
      "source": [
        "full_df = new_df.copy()\r\n",
        "full_df['Type'] = full_df['Type_Imputed']\r\n",
        "full_df.drop('Type_Imputed', axis=1, inplace=True)\r\n",
        "full_df.isnull().sum()"
      ],
      "execution_count": 19,
      "outputs": [
        {
          "output_type": "execute_result",
          "data": {
            "text/plain": [
              "Category          0\n",
              "Rating            0\n",
              "Reviews           0\n",
              "Size              0\n",
              "Installs          0\n",
              "Type              0\n",
              "Price             0\n",
              "Content Rating    0\n",
              "Genres            0\n",
              "Category_num      0\n",
              "Genres_num        0\n",
              "dtype: int64"
            ]
          },
          "metadata": {
            "tags": []
          },
          "execution_count": 19
        }
      ]
    },
    {
      "cell_type": "markdown",
      "metadata": {
        "id": "Mz7PfdfyJ7tK"
      },
      "source": [
        "Буду кодировать признак Type перед началом обучения модели. Опять выбираю линейную регрессию в качестве модели, на которой буду тестировать разные стратегии заполнения пропусков в данных. Выбор связан с тем, что данная модель простая и рассчеты выполняются достаточно быстро.\r\n",
        "Также попробую оценить точность стратегий заполнению пропусков, использую модель Bagging, так как эта модель показала наилучшие результаты в разделе, где я выбирала лучшую модель для своего набора данных."
      ]
    },
    {
      "cell_type": "code",
      "metadata": {
        "colab": {
          "base_uri": "https://localhost:8080/"
        },
        "id": "l88HvijKpTsO",
        "outputId": "0d21a4d7-6fe7-4e1b-8f4d-350f1836fac1"
      },
      "source": [
        "type_num = le.fit_transform(full_df['Type'])\r\n",
        "full_df['Type'] = type_num\r\n",
        "print(np.unique(full_df['Type']))"
      ],
      "execution_count": 20,
      "outputs": [
        {
          "output_type": "stream",
          "text": [
            "[0 1]\n"
          ],
          "name": "stdout"
        }
      ]
    },
    {
      "cell_type": "code",
      "metadata": {
        "colab": {
          "base_uri": "https://localhost:8080/",
          "height": 352
        },
        "id": "XhsiVddlBR4n",
        "outputId": "1adbe1e5-9ccb-4c7d-c3c2-27cb3d546db2"
      },
      "source": [
        "sns.heatmap(full_df.corr(), annot=True, fmt='.3f')"
      ],
      "execution_count": null,
      "outputs": [
        {
          "output_type": "execute_result",
          "data": {
            "text/plain": [
              "<matplotlib.axes._subplots.AxesSubplot at 0x7ff8d56d10b8>"
            ]
          },
          "metadata": {
            "tags": []
          },
          "execution_count": 23
        },
        {
          "output_type": "display_data",
          "data": {
            "image/png": "[encoded data removed]",
            "text/plain": [
              "<Figure size 432x288 with 2 Axes>"
            ]
          },
          "metadata": {
            "tags": [],
            "needs_background": "light"
          }
        }
      ]
    },
    {
      "cell_type": "code",
      "metadata": {
        "id": "q5Y7Bf1_BR9b"
      },
      "source": [
        "X = full_df.drop([\"Rating\", \"Price\", \"Category_num\", \"Category\", \"Genres\"], axis=1)\r\n",
        "y_mode = full_df[\"Rating\"]"
      ],
      "execution_count": 21,
      "outputs": []
    },
    {
      "cell_type": "code",
      "metadata": {
        "colab": {
          "base_uri": "https://localhost:8080/",
          "height": 282
        },
        "id": "W2gG5iQVBSBF",
        "outputId": "13c403bf-8c1b-464e-d422-0ab41bb53ea9"
      },
      "source": [
        "columns = X.columns\r\n",
        "scaler = StandardScaler()\r\n",
        "X_mode = scaler.fit_transform(X)\r\n",
        "pd.DataFrame(X_mode, columns=columns).describe()"
      ],
      "execution_count": 22,
      "outputs": [
        {
          "output_type": "execute_result",
          "data": {
            "text/html": [
              "<div>\n",
              "<style scoped>\n",
              "    .dataframe tbody tr th:only-of-type {\n",
              "        vertical-align: middle;\n",
              "    }\n",
              "\n",
              "    .dataframe tbody tr th {\n",
              "        vertical-align: top;\n",
              "    }\n",
              "\n",
              "    .dataframe thead th {\n",
              "        text-align: right;\n",
              "    }\n",
              "</style>\n",
              "<table border=\"1\" class=\"dataframe\">\n",
              "  <thead>\n",
              "    <tr style=\"text-align: right;\">\n",
              "      <th></th>\n",
              "      <th>Reviews</th>\n",
              "      <th>Size</th>\n",
              "      <th>Installs</th>\n",
              "      <th>Type</th>\n",
              "      <th>Content Rating</th>\n",
              "      <th>Genres_num</th>\n",
              "    </tr>\n",
              "  </thead>\n",
              "  <tbody>\n",
              "    <tr>\n",
              "      <th>count</th>\n",
              "      <td>1.084000e+04</td>\n",
              "      <td>1.084000e+04</td>\n",
              "      <td>1.084000e+04</td>\n",
              "      <td>1.084000e+04</td>\n",
              "      <td>1.084000e+04</td>\n",
              "      <td>1.084000e+04</td>\n",
              "    </tr>\n",
              "    <tr>\n",
              "      <th>mean</th>\n",
              "      <td>-1.296690e-16</td>\n",
              "      <td>8.623458e-16</td>\n",
              "      <td>1.651623e-16</td>\n",
              "      <td>4.424925e-15</td>\n",
              "      <td>4.811086e-16</td>\n",
              "      <td>-8.467645e-15</td>\n",
              "    </tr>\n",
              "    <tr>\n",
              "      <th>std</th>\n",
              "      <td>1.000046e+00</td>\n",
              "      <td>1.000046e+00</td>\n",
              "      <td>1.000046e+00</td>\n",
              "      <td>1.000046e+00</td>\n",
              "      <td>1.000046e+00</td>\n",
              "      <td>1.000046e+00</td>\n",
              "    </tr>\n",
              "    <tr>\n",
              "      <th>min</th>\n",
              "      <td>-1.517110e-01</td>\n",
              "      <td>-1.036705e+00</td>\n",
              "      <td>-1.818790e-01</td>\n",
              "      <td>-2.621399e-01</td>\n",
              "      <td>-1.456148e+00</td>\n",
              "      <td>-1.968561e+00</td>\n",
              "    </tr>\n",
              "    <tr>\n",
              "      <th>25%</th>\n",
              "      <td>-1.516980e-01</td>\n",
              "      <td>-7.527294e-01</td>\n",
              "      <td>-1.818672e-01</td>\n",
              "      <td>-2.621399e-01</td>\n",
              "      <td>-4.622153e-01</td>\n",
              "      <td>-8.045318e-01</td>\n",
              "    </tr>\n",
              "    <tr>\n",
              "      <th>50%</th>\n",
              "      <td>-1.509957e-01</td>\n",
              "      <td>-1.694996e-01</td>\n",
              "      <td>-1.807028e-01</td>\n",
              "      <td>-2.621399e-01</td>\n",
              "      <td>-4.622153e-01</td>\n",
              "      <td>8.380663e-02</td>\n",
              "    </tr>\n",
              "    <tr>\n",
              "      <th>75%</th>\n",
              "      <td>-1.330011e-01</td>\n",
              "      <td>2.161069e-01</td>\n",
              "      <td>-1.230730e-01</td>\n",
              "      <td>-2.621399e-01</td>\n",
              "      <td>-4.622153e-01</td>\n",
              "      <td>9.721450e-01</td>\n",
              "    </tr>\n",
              "    <tr>\n",
              "      <th>max</th>\n",
              "      <td>2.654511e+01</td>\n",
              "      <td>3.782967e+00</td>\n",
              "      <td>1.157931e+01</td>\n",
              "      <td>3.814757e+00</td>\n",
              "      <td>3.513515e+00</td>\n",
              "      <td>1.646057e+00</td>\n",
              "    </tr>\n",
              "  </tbody>\n",
              "</table>\n",
              "</div>"
            ],
            "text/plain": [
              "            Reviews          Size  ...  Content Rating    Genres_num\n",
              "count  1.084000e+04  1.084000e+04  ...    1.084000e+04  1.084000e+04\n",
              "mean  -1.296690e-16  8.623458e-16  ...    4.811086e-16 -8.467645e-15\n",
              "std    1.000046e+00  1.000046e+00  ...    1.000046e+00  1.000046e+00\n",
              "min   -1.517110e-01 -1.036705e+00  ...   -1.456148e+00 -1.968561e+00\n",
              "25%   -1.516980e-01 -7.527294e-01  ...   -4.622153e-01 -8.045318e-01\n",
              "50%   -1.509957e-01 -1.694996e-01  ...   -4.622153e-01  8.380663e-02\n",
              "75%   -1.330011e-01  2.161069e-01  ...   -4.622153e-01  9.721450e-01\n",
              "max    2.654511e+01  3.782967e+00  ...    3.513515e+00  1.646057e+00\n",
              "\n",
              "[8 rows x 6 columns]"
            ]
          },
          "metadata": {
            "tags": []
          },
          "execution_count": 22
        }
      ]
    },
    {
      "cell_type": "code",
      "metadata": {
        "id": "hCCpCt5EBSD5"
      },
      "source": [
        "X_train, X_test, y_train, y_test = train_test_split(X_mode, y_mode,\r\n",
        "                            test_size=0.2, random_state=88888888)"
      ],
      "execution_count": 23,
      "outputs": []
    },
    {
      "cell_type": "code",
      "metadata": {
        "id": "Xi7QL04a431R"
      },
      "source": [
        "def test_model(model):\r\n",
        "    print(\"mean_absolute_error:\",\r\n",
        "          mean_absolute_error(y_test, model.predict(X_test)))\r\n",
        "    print(\"median_absolute_error:\",\r\n",
        "          median_absolute_error(y_test, model.predict(X_test)))\r\n",
        "    print(\"mean_squared_error:\",\r\n",
        "          mean_squared_error(y_test, model.predict(X_test)))\r\n",
        "    print(\"r2_score:\",\r\n",
        "          r2_score(y_test, model.predict(X_test)))"
      ],
      "execution_count": 24,
      "outputs": []
    },
    {
      "cell_type": "code",
      "metadata": {
        "colab": {
          "base_uri": "https://localhost:8080/"
        },
        "id": "qN3RCaev437s",
        "outputId": "74a403ad-0367-4377-fe86-96d2108414a2"
      },
      "source": [
        "lin_mode = LinearRegression()\r\n",
        "lin_mode.fit(X_train, y_train)\r\n",
        "test_model(lin_mode)"
      ],
      "execution_count": 25,
      "outputs": [
        {
          "output_type": "stream",
          "text": [
            "mean_absolute_error: 0.3043701037080406\n",
            "median_absolute_error: 0.22090960077943622\n",
            "mean_squared_error: 0.21179434427369973\n",
            "r2_score: 0.011509155370468926\n"
          ],
          "name": "stdout"
        }
      ]
    },
    {
      "cell_type": "code",
      "metadata": {
        "colab": {
          "base_uri": "https://localhost:8080/"
        },
        "id": "ejbRdSfl4Wct",
        "outputId": "17d72658-bce9-40fc-f51b-832159304b77"
      },
      "source": [
        "tuned_parameters = {\r\n",
        "    \"n_estimators\": np.arange(1, 252, 10), # default 100\r\n",
        "}\r\n",
        "\r\n",
        "gs = GridSearchCV(BaggingRegressor(), tuned_parameters,\r\n",
        "                  cv=ShuffleSplit(n_splits=10), scoring=\"r2\",\r\n",
        "                  return_train_score=True, n_jobs=-1)\r\n",
        "gs.fit(X_train, y_train)\r\n",
        "gs.best_estimator_"
      ],
      "execution_count": 26,
      "outputs": [
        {
          "output_type": "execute_result",
          "data": {
            "text/plain": [
              "BaggingRegressor(base_estimator=None, bootstrap=True, bootstrap_features=False,\n",
              "                 max_features=1.0, max_samples=1.0, n_estimators=251,\n",
              "                 n_jobs=None, oob_score=False, random_state=None, verbose=0,\n",
              "                 warm_start=False)"
            ]
          },
          "metadata": {
            "tags": []
          },
          "execution_count": 26
        }
      ]
    },
    {
      "cell_type": "code",
      "metadata": {
        "colab": {
          "base_uri": "https://localhost:8080/"
        },
        "id": "xhwCNWYk4WwX",
        "outputId": "b79ef262-cbe0-4a8c-a8b7-333eb399313d"
      },
      "source": [
        "b_gs_mode = gs.best_estimator_\r\n",
        "b_gs_mode.fit(X_train, y_train)\r\n",
        "y_pred = b_gs_mode.predict(X_test)\r\n",
        "test_model(b_gs_mode)"
      ],
      "execution_count": 27,
      "outputs": [
        {
          "output_type": "stream",
          "text": [
            "mean_absolute_error: 0.2786805597574532\n",
            "median_absolute_error: 0.1743192083257754\n",
            "mean_squared_error: 0.18849791080074238\n",
            "r2_score: 0.1202387405702513\n"
          ],
          "name": "stdout"
        }
      ]
    },
    {
      "cell_type": "markdown",
      "metadata": {
        "id": "o-XgGmA1RyUr"
      },
      "source": [
        "##Adding Vairable to Capture NAN Value"
      ]
    },
    {
      "cell_type": "code",
      "metadata": {
        "id": "MEaEJzm7T0SZ"
      },
      "source": [
        "full_df = new_df.copy()"
      ],
      "execution_count": 28,
      "outputs": []
    },
    {
      "cell_type": "code",
      "metadata": {
        "id": "qZJZqE1WEWXT"
      },
      "source": [
        "# Function to impute most occured category and add importance vairable\r\n",
        "\r\n",
        "def impute_nan_add_vairable(DataFrame,ColName):\r\n",
        "    # Create new column and replace if category is null then 1 else 0\r\n",
        "    DataFrame[ColName+\"_Imputed\"]=np.where(DataFrame[ColName].isnull(),1,0)\r\n",
        "    \r\n",
        "    #Take most frequent occured category in that vairable (.mode())\r\n",
        "    Mode_Category = DataFrame[ColName].mode()[0]\r\n",
        "    \r\n",
        "    #Replace NAN values with most occured category in actual vairable\r\n",
        "    DataFrame[ColName].fillna(Mode_Category,inplace=True)"
      ],
      "execution_count": 29,
      "outputs": []
    },
    {
      "cell_type": "code",
      "metadata": {
        "id": "Qs8OkDocEWZp"
      },
      "source": [
        "for Columns in ['Type']:\r\n",
        "    impute_nan_add_vairable(full_df,Columns)"
      ],
      "execution_count": 30,
      "outputs": []
    },
    {
      "cell_type": "code",
      "metadata": {
        "colab": {
          "base_uri": "https://localhost:8080/"
        },
        "id": "yuHjkcHmEWeJ",
        "outputId": "c7a79b19-dffc-4be9-be87-a7d08765b08c"
      },
      "source": [
        "full_df.isnull().sum()"
      ],
      "execution_count": 31,
      "outputs": [
        {
          "output_type": "execute_result",
          "data": {
            "text/plain": [
              "Category          0\n",
              "Rating            0\n",
              "Reviews           0\n",
              "Size              0\n",
              "Installs          0\n",
              "Type              0\n",
              "Price             0\n",
              "Content Rating    0\n",
              "Genres            0\n",
              "Category_num      0\n",
              "Genres_num        0\n",
              "Type_Imputed      0\n",
              "dtype: int64"
            ]
          },
          "metadata": {
            "tags": []
          },
          "execution_count": 31
        }
      ]
    },
    {
      "cell_type": "code",
      "metadata": {
        "colab": {
          "base_uri": "https://localhost:8080/"
        },
        "id": "SBP81cVTso3j",
        "outputId": "fad65843-afa8-4d9f-909d-71eedf8e021f"
      },
      "source": [
        "np.unique(full_df['Type'])"
      ],
      "execution_count": 32,
      "outputs": [
        {
          "output_type": "execute_result",
          "data": {
            "text/plain": [
              "array(['Free', 'Paid'], dtype=object)"
            ]
          },
          "metadata": {
            "tags": []
          },
          "execution_count": 32
        }
      ]
    },
    {
      "cell_type": "code",
      "metadata": {
        "colab": {
          "base_uri": "https://localhost:8080/"
        },
        "id": "klq2zrZZsg0W",
        "outputId": "db864cf1-4300-4ffc-91a9-f8601614ee5d"
      },
      "source": [
        "type_num = le.fit_transform(full_df['Type'])\r\n",
        "full_df['Type'] = type_num\r\n",
        "print(np.unique(full_df['Type']))"
      ],
      "execution_count": 33,
      "outputs": [
        {
          "output_type": "stream",
          "text": [
            "[0 1]\n"
          ],
          "name": "stdout"
        }
      ]
    },
    {
      "cell_type": "code",
      "metadata": {
        "colab": {
          "base_uri": "https://localhost:8080/",
          "height": 352
        },
        "id": "Ho-UrlYPEWgH",
        "outputId": "b6a92f19-1aa6-45c9-d7cd-c079ef968228"
      },
      "source": [
        "sns.heatmap(full_df.corr(), annot=True, fmt='.3f')"
      ],
      "execution_count": null,
      "outputs": [
        {
          "output_type": "execute_result",
          "data": {
            "text/plain": [
              "<matplotlib.axes._subplots.AxesSubplot at 0x7ff8d555f978>"
            ]
          },
          "metadata": {
            "tags": []
          },
          "execution_count": 35
        },
        {
          "output_type": "display_data",
          "data": {
            "image/png": "[encoded data removed]",
            "text/plain": [
              "<Figure size 432x288 with 2 Axes>"
            ]
          },
          "metadata": {
            "tags": [],
            "needs_background": "light"
          }
        }
      ]
    },
    {
      "cell_type": "code",
      "metadata": {
        "colab": {
          "base_uri": "https://localhost:8080/",
          "height": 282
        },
        "id": "p1W2lCqDikAh",
        "outputId": "61f84e6e-1663-4bfa-e2d1-320115f05ed4"
      },
      "source": [
        "X = full_df.drop([\"Rating\", \"Type_Imputed\", \"Price\", \"Category_num\", \"Category\", \"Genres\"], axis=1)\r\n",
        "y_add_var = full_df[\"Rating\"]\r\n",
        "\r\n",
        "columns = X.columns\r\n",
        "scaler = StandardScaler()\r\n",
        "X_add_var = scaler.fit_transform(X)\r\n",
        "pd.DataFrame(X_add_var, columns=columns).describe()"
      ],
      "execution_count": 34,
      "outputs": [
        {
          "output_type": "execute_result",
          "data": {
            "text/html": [
              "<div>\n",
              "<style scoped>\n",
              "    .dataframe tbody tr th:only-of-type {\n",
              "        vertical-align: middle;\n",
              "    }\n",
              "\n",
              "    .dataframe tbody tr th {\n",
              "        vertical-align: top;\n",
              "    }\n",
              "\n",
              "    .dataframe thead th {\n",
              "        text-align: right;\n",
              "    }\n",
              "</style>\n",
              "<table border=\"1\" class=\"dataframe\">\n",
              "  <thead>\n",
              "    <tr style=\"text-align: right;\">\n",
              "      <th></th>\n",
              "      <th>Reviews</th>\n",
              "      <th>Size</th>\n",
              "      <th>Installs</th>\n",
              "      <th>Type</th>\n",
              "      <th>Content Rating</th>\n",
              "      <th>Genres_num</th>\n",
              "    </tr>\n",
              "  </thead>\n",
              "  <tbody>\n",
              "    <tr>\n",
              "      <th>count</th>\n",
              "      <td>1.084000e+04</td>\n",
              "      <td>1.084000e+04</td>\n",
              "      <td>1.084000e+04</td>\n",
              "      <td>1.084000e+04</td>\n",
              "      <td>1.084000e+04</td>\n",
              "      <td>1.084000e+04</td>\n",
              "    </tr>\n",
              "    <tr>\n",
              "      <th>mean</th>\n",
              "      <td>-1.296690e-16</td>\n",
              "      <td>8.623458e-16</td>\n",
              "      <td>1.651623e-16</td>\n",
              "      <td>4.424925e-15</td>\n",
              "      <td>4.811086e-16</td>\n",
              "      <td>-8.467645e-15</td>\n",
              "    </tr>\n",
              "    <tr>\n",
              "      <th>std</th>\n",
              "      <td>1.000046e+00</td>\n",
              "      <td>1.000046e+00</td>\n",
              "      <td>1.000046e+00</td>\n",
              "      <td>1.000046e+00</td>\n",
              "      <td>1.000046e+00</td>\n",
              "      <td>1.000046e+00</td>\n",
              "    </tr>\n",
              "    <tr>\n",
              "      <th>min</th>\n",
              "      <td>-1.517110e-01</td>\n",
              "      <td>-1.036705e+00</td>\n",
              "      <td>-1.818790e-01</td>\n",
              "      <td>-2.621399e-01</td>\n",
              "      <td>-1.456148e+00</td>\n",
              "      <td>-1.968561e+00</td>\n",
              "    </tr>\n",
              "    <tr>\n",
              "      <th>25%</th>\n",
              "      <td>-1.516980e-01</td>\n",
              "      <td>-7.527294e-01</td>\n",
              "      <td>-1.818672e-01</td>\n",
              "      <td>-2.621399e-01</td>\n",
              "      <td>-4.622153e-01</td>\n",
              "      <td>-8.045318e-01</td>\n",
              "    </tr>\n",
              "    <tr>\n",
              "      <th>50%</th>\n",
              "      <td>-1.509957e-01</td>\n",
              "      <td>-1.694996e-01</td>\n",
              "      <td>-1.807028e-01</td>\n",
              "      <td>-2.621399e-01</td>\n",
              "      <td>-4.622153e-01</td>\n",
              "      <td>8.380663e-02</td>\n",
              "    </tr>\n",
              "    <tr>\n",
              "      <th>75%</th>\n",
              "      <td>-1.330011e-01</td>\n",
              "      <td>2.161069e-01</td>\n",
              "      <td>-1.230730e-01</td>\n",
              "      <td>-2.621399e-01</td>\n",
              "      <td>-4.622153e-01</td>\n",
              "      <td>9.721450e-01</td>\n",
              "    </tr>\n",
              "    <tr>\n",
              "      <th>max</th>\n",
              "      <td>2.654511e+01</td>\n",
              "      <td>3.782967e+00</td>\n",
              "      <td>1.157931e+01</td>\n",
              "      <td>3.814757e+00</td>\n",
              "      <td>3.513515e+00</td>\n",
              "      <td>1.646057e+00</td>\n",
              "    </tr>\n",
              "  </tbody>\n",
              "</table>\n",
              "</div>"
            ],
            "text/plain": [
              "            Reviews          Size  ...  Content Rating    Genres_num\n",
              "count  1.084000e+04  1.084000e+04  ...    1.084000e+04  1.084000e+04\n",
              "mean  -1.296690e-16  8.623458e-16  ...    4.811086e-16 -8.467645e-15\n",
              "std    1.000046e+00  1.000046e+00  ...    1.000046e+00  1.000046e+00\n",
              "min   -1.517110e-01 -1.036705e+00  ...   -1.456148e+00 -1.968561e+00\n",
              "25%   -1.516980e-01 -7.527294e-01  ...   -4.622153e-01 -8.045318e-01\n",
              "50%   -1.509957e-01 -1.694996e-01  ...   -4.622153e-01  8.380663e-02\n",
              "75%   -1.330011e-01  2.161069e-01  ...   -4.622153e-01  9.721450e-01\n",
              "max    2.654511e+01  3.782967e+00  ...    3.513515e+00  1.646057e+00\n",
              "\n",
              "[8 rows x 6 columns]"
            ]
          },
          "metadata": {
            "tags": []
          },
          "execution_count": 34
        }
      ]
    },
    {
      "cell_type": "code",
      "metadata": {
        "id": "Y6Fzj8UkikDj"
      },
      "source": [
        "X_train, X_test, y_train, y_test = train_test_split(X_add_var, y_add_var,\r\n",
        "                            test_size=0.2, random_state=88888888)"
      ],
      "execution_count": 35,
      "outputs": []
    },
    {
      "cell_type": "code",
      "metadata": {
        "colab": {
          "base_uri": "https://localhost:8080/"
        },
        "id": "e2vjrIqOi_v6",
        "outputId": "527015a6-7744-4f94-e505-5775a6ed3ec3"
      },
      "source": [
        "lin_add_var = LinearRegression()\r\n",
        "lin_add_var.fit(X_train, y_train)\r\n",
        "test_model(lin_add_var)"
      ],
      "execution_count": 36,
      "outputs": [
        {
          "output_type": "stream",
          "text": [
            "mean_absolute_error: 0.3043701037080406\n",
            "median_absolute_error: 0.22090960077943622\n",
            "mean_squared_error: 0.21179434427369973\n",
            "r2_score: 0.011509155370468926\n"
          ],
          "name": "stdout"
        }
      ]
    },
    {
      "cell_type": "code",
      "metadata": {
        "colab": {
          "base_uri": "https://localhost:8080/"
        },
        "id": "PsKNyd2T7D4R",
        "outputId": "517106d1-3b08-404b-c383-918ae7f87759"
      },
      "source": [
        "tuned_parameters = {\r\n",
        "    \"n_estimators\": np.arange(1, 252, 10), # default 100\r\n",
        "}\r\n",
        "\r\n",
        "gs = GridSearchCV(BaggingRegressor(), tuned_parameters,\r\n",
        "                  cv=ShuffleSplit(n_splits=10), scoring=\"r2\",\r\n",
        "                  return_train_score=True, n_jobs=-1)\r\n",
        "gs.fit(X_train, y_train)\r\n",
        "gs.best_estimator_"
      ],
      "execution_count": 37,
      "outputs": [
        {
          "output_type": "execute_result",
          "data": {
            "text/plain": [
              "BaggingRegressor(base_estimator=None, bootstrap=True, bootstrap_features=False,\n",
              "                 max_features=1.0, max_samples=1.0, n_estimators=241,\n",
              "                 n_jobs=None, oob_score=False, random_state=None, verbose=0,\n",
              "                 warm_start=False)"
            ]
          },
          "metadata": {
            "tags": []
          },
          "execution_count": 37
        }
      ]
    },
    {
      "cell_type": "code",
      "metadata": {
        "colab": {
          "base_uri": "https://localhost:8080/"
        },
        "id": "U91xMV-p7D7U",
        "outputId": "3f03a5e8-47a8-4ed4-bbf4-9358e6ae7602"
      },
      "source": [
        "b_gs_add_var = gs.best_estimator_\r\n",
        "b_gs_add_var.fit(X_train, y_train)\r\n",
        "y_pred = b_gs_add_var.predict(X_test)\r\n",
        "test_model(b_gs_add_var)"
      ],
      "execution_count": 38,
      "outputs": [
        {
          "output_type": "stream",
          "text": [
            "mean_absolute_error: 0.2792396195254479\n",
            "median_absolute_error: 0.175092437287506\n",
            "mean_squared_error: 0.18758910307242768\n",
            "r2_score: 0.12448034636972782\n"
          ],
          "name": "stdout"
        }
      ]
    },
    {
      "cell_type": "markdown",
      "metadata": {
        "id": "op6YcAoWmGrb"
      },
      "source": [
        "##Create a New Category for NAN Values"
      ]
    },
    {
      "cell_type": "code",
      "metadata": {
        "id": "QCVinzG-ikH1"
      },
      "source": [
        "full_df = new_df.copy()\r\n",
        "#print(np.unique(full_df['Type']))"
      ],
      "execution_count": 39,
      "outputs": []
    },
    {
      "cell_type": "code",
      "metadata": {
        "colab": {
          "base_uri": "https://localhost:8080/",
          "height": 194
        },
        "id": "fN7gQo0ku9vY",
        "outputId": "cc3baf24-403e-4d24-9bc6-cadc91328f0d"
      },
      "source": [
        "full_df.head()"
      ],
      "execution_count": null,
      "outputs": [
        {
          "output_type": "execute_result",
          "data": {
            "text/html": [
              "<div>\n",
              "<style scoped>\n",
              "    .dataframe tbody tr th:only-of-type {\n",
              "        vertical-align: middle;\n",
              "    }\n",
              "\n",
              "    .dataframe tbody tr th {\n",
              "        vertical-align: top;\n",
              "    }\n",
              "\n",
              "    .dataframe thead th {\n",
              "        text-align: right;\n",
              "    }\n",
              "</style>\n",
              "<table border=\"1\" class=\"dataframe\">\n",
              "  <thead>\n",
              "    <tr style=\"text-align: right;\">\n",
              "      <th></th>\n",
              "      <th>Category</th>\n",
              "      <th>Rating</th>\n",
              "      <th>Reviews</th>\n",
              "      <th>Size</th>\n",
              "      <th>Installs</th>\n",
              "      <th>Type</th>\n",
              "      <th>Price</th>\n",
              "      <th>Content Rating</th>\n",
              "      <th>Genres</th>\n",
              "      <th>Category_num</th>\n",
              "      <th>Genres_num</th>\n",
              "      <th>Type_Imputed</th>\n",
              "    </tr>\n",
              "  </thead>\n",
              "  <tbody>\n",
              "    <tr>\n",
              "      <th>0</th>\n",
              "      <td>ART_AND_DESIGN</td>\n",
              "      <td>4.1</td>\n",
              "      <td>159.0</td>\n",
              "      <td>19000000.0</td>\n",
              "      <td>10000.0</td>\n",
              "      <td>Free</td>\n",
              "      <td>0.0</td>\n",
              "      <td>1</td>\n",
              "      <td>Art &amp; Design</td>\n",
              "      <td>0</td>\n",
              "      <td>9</td>\n",
              "      <td>Free</td>\n",
              "    </tr>\n",
              "    <tr>\n",
              "      <th>1</th>\n",
              "      <td>ART_AND_DESIGN</td>\n",
              "      <td>3.9</td>\n",
              "      <td>967.0</td>\n",
              "      <td>14000000.0</td>\n",
              "      <td>500000.0</td>\n",
              "      <td>Free</td>\n",
              "      <td>0.0</td>\n",
              "      <td>1</td>\n",
              "      <td>Art &amp; Design;Pretend Play</td>\n",
              "      <td>0</td>\n",
              "      <td>12</td>\n",
              "      <td>Free</td>\n",
              "    </tr>\n",
              "    <tr>\n",
              "      <th>2</th>\n",
              "      <td>ART_AND_DESIGN</td>\n",
              "      <td>4.7</td>\n",
              "      <td>87510.0</td>\n",
              "      <td>8700000.0</td>\n",
              "      <td>5000000.0</td>\n",
              "      <td>Free</td>\n",
              "      <td>0.0</td>\n",
              "      <td>1</td>\n",
              "      <td>Art &amp; Design</td>\n",
              "      <td>0</td>\n",
              "      <td>9</td>\n",
              "      <td>Free</td>\n",
              "    </tr>\n",
              "    <tr>\n",
              "      <th>3</th>\n",
              "      <td>ART_AND_DESIGN</td>\n",
              "      <td>4.5</td>\n",
              "      <td>215644.0</td>\n",
              "      <td>25000000.0</td>\n",
              "      <td>50000000.0</td>\n",
              "      <td>Free</td>\n",
              "      <td>0.0</td>\n",
              "      <td>4</td>\n",
              "      <td>Art &amp; Design</td>\n",
              "      <td>0</td>\n",
              "      <td>9</td>\n",
              "      <td>Free</td>\n",
              "    </tr>\n",
              "    <tr>\n",
              "      <th>4</th>\n",
              "      <td>ART_AND_DESIGN</td>\n",
              "      <td>4.3</td>\n",
              "      <td>967.0</td>\n",
              "      <td>2800000.0</td>\n",
              "      <td>100000.0</td>\n",
              "      <td>Free</td>\n",
              "      <td>0.0</td>\n",
              "      <td>1</td>\n",
              "      <td>Art &amp; Design;Creativity</td>\n",
              "      <td>0</td>\n",
              "      <td>11</td>\n",
              "      <td>Free</td>\n",
              "    </tr>\n",
              "  </tbody>\n",
              "</table>\n",
              "</div>"
            ],
            "text/plain": [
              "         Category  Rating   Reviews  ...  Category_num  Genres_num Type_Imputed\n",
              "0  ART_AND_DESIGN     4.1     159.0  ...             0           9         Free\n",
              "1  ART_AND_DESIGN     3.9     967.0  ...             0          12         Free\n",
              "2  ART_AND_DESIGN     4.7   87510.0  ...             0           9         Free\n",
              "3  ART_AND_DESIGN     4.5  215644.0  ...             0           9         Free\n",
              "4  ART_AND_DESIGN     4.3     967.0  ...             0          11         Free\n",
              "\n",
              "[5 rows x 12 columns]"
            ]
          },
          "metadata": {
            "tags": []
          },
          "execution_count": 41
        }
      ]
    },
    {
      "cell_type": "code",
      "metadata": {
        "id": "p91btnsMmjgn"
      },
      "source": [
        "#1. Function to impute null value with new category\r\n",
        "def impute_nan_create_category(DataFrame,ColName):\r\n",
        "    DataFrame[ColName]=np.where(DataFrame[ColName].isnull(),\"Unknown\",DataFrame[ColName])"
      ],
      "execution_count": 40,
      "outputs": []
    },
    {
      "cell_type": "code",
      "metadata": {
        "id": "b57X-3XujHT0"
      },
      "source": [
        "## Call function to create new category for variables\r\n",
        "for Columns in ['Type']:\r\n",
        "    impute_nan_create_category(full_df,Columns)"
      ],
      "execution_count": 41,
      "outputs": []
    },
    {
      "cell_type": "code",
      "metadata": {
        "colab": {
          "base_uri": "https://localhost:8080/"
        },
        "id": "VQSsBXzyjHYA",
        "outputId": "f819b1b5-96d6-4072-f2bc-db9068231a3d"
      },
      "source": [
        "np.unique(full_df['Type'])"
      ],
      "execution_count": 42,
      "outputs": [
        {
          "output_type": "execute_result",
          "data": {
            "text/plain": [
              "array(['Free', 'Paid', 'Unknown'], dtype=object)"
            ]
          },
          "metadata": {
            "tags": []
          },
          "execution_count": 42
        }
      ]
    },
    {
      "cell_type": "code",
      "metadata": {
        "colab": {
          "base_uri": "https://localhost:8080/"
        },
        "id": "T70FxSlTjHcK",
        "outputId": "d1f6f102-17d3-449a-a3ab-d68f7707f7e6"
      },
      "source": [
        "type_num = le.fit_transform(full_df['Type'])\r\n",
        "full_df['Type'] = type_num\r\n",
        "print(np.unique(full_df['Type']))"
      ],
      "execution_count": 43,
      "outputs": [
        {
          "output_type": "stream",
          "text": [
            "[0 1 2]\n"
          ],
          "name": "stdout"
        }
      ]
    },
    {
      "cell_type": "code",
      "metadata": {
        "colab": {
          "base_uri": "https://localhost:8080/",
          "height": 352
        },
        "id": "OTaYfVn_jHfY",
        "outputId": "f3c3d844-d198-419c-8707-90e3789e2b04"
      },
      "source": [
        "sns.heatmap(full_df.corr(), annot=True, fmt='.3f')"
      ],
      "execution_count": null,
      "outputs": [
        {
          "output_type": "execute_result",
          "data": {
            "text/plain": [
              "<matplotlib.axes._subplots.AxesSubplot at 0x7ff8c8e746d8>"
            ]
          },
          "metadata": {
            "tags": []
          },
          "execution_count": 46
        },
        {
          "output_type": "display_data",
          "data": {
            "image/png": "[encoded data removed]",
            "text/plain": [
              "<Figure size 432x288 with 2 Axes>"
            ]
          },
          "metadata": {
            "tags": [],
            "needs_background": "light"
          }
        }
      ]
    },
    {
      "cell_type": "code",
      "metadata": {
        "colab": {
          "base_uri": "https://localhost:8080/"
        },
        "id": "u6C8Nm4rwukn",
        "outputId": "9ac2283b-1ccd-493a-a21c-5a2af78cc698"
      },
      "source": [
        "full_df.info()"
      ],
      "execution_count": null,
      "outputs": [
        {
          "output_type": "stream",
          "text": [
            "<class 'pandas.core.frame.DataFrame'>\n",
            "Int64Index: 10840 entries, 0 to 10840\n",
            "Data columns (total 12 columns):\n",
            " #   Column          Non-Null Count  Dtype  \n",
            "---  ------          --------------  -----  \n",
            " 0   Category        10840 non-null  object \n",
            " 1   Rating          10840 non-null  float64\n",
            " 2   Reviews         10840 non-null  float64\n",
            " 3   Size            10840 non-null  float64\n",
            " 4   Installs        10840 non-null  float64\n",
            " 5   Type            10840 non-null  int64  \n",
            " 6   Price           10840 non-null  float64\n",
            " 7   Content Rating  10840 non-null  int64  \n",
            " 8   Genres          10840 non-null  object \n",
            " 9   Category_num    10840 non-null  int64  \n",
            " 10  Genres_num      10840 non-null  int64  \n",
            " 11  Type_Imputed    10840 non-null  object \n",
            "dtypes: float64(5), int64(4), object(3)\n",
            "memory usage: 1.4+ MB\n"
          ],
          "name": "stdout"
        }
      ]
    },
    {
      "cell_type": "code",
      "metadata": {
        "colab": {
          "base_uri": "https://localhost:8080/",
          "height": 282
        },
        "id": "i3afs_gVvdms",
        "outputId": "3ec6a9e4-cbc9-4077-c871-50d5cffb18c5"
      },
      "source": [
        "X = full_df.drop([\"Rating\", \"Type_Imputed\", \"Price\", \"Category_num\", \"Category\", \"Genres\"], axis=1)\r\n",
        "y_add_categ = full_df[\"Rating\"]\r\n",
        "\r\n",
        "columns = X.columns\r\n",
        "scaler = StandardScaler()\r\n",
        "X_add_categ = scaler.fit_transform(X)\r\n",
        "pd.DataFrame(X_add_categ, columns=columns).describe()"
      ],
      "execution_count": 44,
      "outputs": [
        {
          "output_type": "execute_result",
          "data": {
            "text/html": [
              "<div>\n",
              "<style scoped>\n",
              "    .dataframe tbody tr th:only-of-type {\n",
              "        vertical-align: middle;\n",
              "    }\n",
              "\n",
              "    .dataframe tbody tr th {\n",
              "        vertical-align: top;\n",
              "    }\n",
              "\n",
              "    .dataframe thead th {\n",
              "        text-align: right;\n",
              "    }\n",
              "</style>\n",
              "<table border=\"1\" class=\"dataframe\">\n",
              "  <thead>\n",
              "    <tr style=\"text-align: right;\">\n",
              "      <th></th>\n",
              "      <th>Reviews</th>\n",
              "      <th>Size</th>\n",
              "      <th>Installs</th>\n",
              "      <th>Type</th>\n",
              "      <th>Content Rating</th>\n",
              "      <th>Genres_num</th>\n",
              "    </tr>\n",
              "  </thead>\n",
              "  <tbody>\n",
              "    <tr>\n",
              "      <th>count</th>\n",
              "      <td>1.084000e+04</td>\n",
              "      <td>1.084000e+04</td>\n",
              "      <td>1.084000e+04</td>\n",
              "      <td>1.084000e+04</td>\n",
              "      <td>1.084000e+04</td>\n",
              "      <td>1.084000e+04</td>\n",
              "    </tr>\n",
              "    <tr>\n",
              "      <th>mean</th>\n",
              "      <td>-1.296690e-16</td>\n",
              "      <td>8.623458e-16</td>\n",
              "      <td>1.651623e-16</td>\n",
              "      <td>5.480344e-16</td>\n",
              "      <td>4.811086e-16</td>\n",
              "      <td>-8.467645e-15</td>\n",
              "    </tr>\n",
              "    <tr>\n",
              "      <th>std</th>\n",
              "      <td>1.000046e+00</td>\n",
              "      <td>1.000046e+00</td>\n",
              "      <td>1.000046e+00</td>\n",
              "      <td>1.000046e+00</td>\n",
              "      <td>1.000046e+00</td>\n",
              "      <td>1.000046e+00</td>\n",
              "    </tr>\n",
              "    <tr>\n",
              "      <th>min</th>\n",
              "      <td>-1.517110e-01</td>\n",
              "      <td>-1.036705e+00</td>\n",
              "      <td>-1.818790e-01</td>\n",
              "      <td>-4.429954e-01</td>\n",
              "      <td>-1.456148e+00</td>\n",
              "      <td>-1.968561e+00</td>\n",
              "    </tr>\n",
              "    <tr>\n",
              "      <th>25%</th>\n",
              "      <td>-1.516980e-01</td>\n",
              "      <td>-7.527294e-01</td>\n",
              "      <td>-1.818672e-01</td>\n",
              "      <td>-4.429954e-01</td>\n",
              "      <td>-4.622153e-01</td>\n",
              "      <td>-8.045318e-01</td>\n",
              "    </tr>\n",
              "    <tr>\n",
              "      <th>50%</th>\n",
              "      <td>-1.509957e-01</td>\n",
              "      <td>-1.694996e-01</td>\n",
              "      <td>-1.807028e-01</td>\n",
              "      <td>-4.429954e-01</td>\n",
              "      <td>-4.622153e-01</td>\n",
              "      <td>8.380663e-02</td>\n",
              "    </tr>\n",
              "    <tr>\n",
              "      <th>75%</th>\n",
              "      <td>-1.330011e-01</td>\n",
              "      <td>2.161069e-01</td>\n",
              "      <td>-1.230730e-01</td>\n",
              "      <td>-4.429954e-01</td>\n",
              "      <td>-4.622153e-01</td>\n",
              "      <td>9.721450e-01</td>\n",
              "    </tr>\n",
              "    <tr>\n",
              "      <th>max</th>\n",
              "      <td>2.654511e+01</td>\n",
              "      <td>3.782967e+00</td>\n",
              "      <td>1.157931e+01</td>\n",
              "      <td>2.591488e+00</td>\n",
              "      <td>3.513515e+00</td>\n",
              "      <td>1.646057e+00</td>\n",
              "    </tr>\n",
              "  </tbody>\n",
              "</table>\n",
              "</div>"
            ],
            "text/plain": [
              "            Reviews          Size  ...  Content Rating    Genres_num\n",
              "count  1.084000e+04  1.084000e+04  ...    1.084000e+04  1.084000e+04\n",
              "mean  -1.296690e-16  8.623458e-16  ...    4.811086e-16 -8.467645e-15\n",
              "std    1.000046e+00  1.000046e+00  ...    1.000046e+00  1.000046e+00\n",
              "min   -1.517110e-01 -1.036705e+00  ...   -1.456148e+00 -1.968561e+00\n",
              "25%   -1.516980e-01 -7.527294e-01  ...   -4.622153e-01 -8.045318e-01\n",
              "50%   -1.509957e-01 -1.694996e-01  ...   -4.622153e-01  8.380663e-02\n",
              "75%   -1.330011e-01  2.161069e-01  ...   -4.622153e-01  9.721450e-01\n",
              "max    2.654511e+01  3.782967e+00  ...    3.513515e+00  1.646057e+00\n",
              "\n",
              "[8 rows x 6 columns]"
            ]
          },
          "metadata": {
            "tags": []
          },
          "execution_count": 44
        }
      ]
    },
    {
      "cell_type": "code",
      "metadata": {
        "id": "5A3C0mBdvdpH"
      },
      "source": [
        "X_train, X_test, y_train, y_test = train_test_split(X_add_categ, y_add_categ,\r\n",
        "                            test_size=0.2, random_state=88888888)"
      ],
      "execution_count": 45,
      "outputs": []
    },
    {
      "cell_type": "code",
      "metadata": {
        "colab": {
          "base_uri": "https://localhost:8080/"
        },
        "id": "997feL8vvdwl",
        "outputId": "8b30ebfe-7fc7-4b8c-9ef1-f858f845e1d6"
      },
      "source": [
        "lin_add_categ = LinearRegression()\r\n",
        "lin_add_categ.fit(X_train, y_train)\r\n",
        "test_model(lin_add_categ)"
      ],
      "execution_count": 46,
      "outputs": [
        {
          "output_type": "stream",
          "text": [
            "mean_absolute_error: 0.30362650257631857\n",
            "median_absolute_error: 0.21985375981385857\n",
            "mean_squared_error: 0.211984730987518\n",
            "r2_score: 0.010620578651417079\n"
          ],
          "name": "stdout"
        }
      ]
    },
    {
      "cell_type": "code",
      "metadata": {
        "colab": {
          "base_uri": "https://localhost:8080/"
        },
        "id": "UbCQmqGL9ohD",
        "outputId": "c8f2feaa-002a-4a49-cc09-a2fb899e7fcd"
      },
      "source": [
        "tuned_parameters = {\r\n",
        "    \"n_estimators\": np.arange(1, 252, 10), # default 100\r\n",
        "}\r\n",
        "\r\n",
        "gs = GridSearchCV(BaggingRegressor(), tuned_parameters,\r\n",
        "                  cv=ShuffleSplit(n_splits=10), scoring=\"r2\",\r\n",
        "                  return_train_score=True, n_jobs=-1)\r\n",
        "gs.fit(X_train, y_train)\r\n",
        "gs.best_estimator_"
      ],
      "execution_count": 47,
      "outputs": [
        {
          "output_type": "execute_result",
          "data": {
            "text/plain": [
              "BaggingRegressor(base_estimator=None, bootstrap=True, bootstrap_features=False,\n",
              "                 max_features=1.0, max_samples=1.0, n_estimators=141,\n",
              "                 n_jobs=None, oob_score=False, random_state=None, verbose=0,\n",
              "                 warm_start=False)"
            ]
          },
          "metadata": {
            "tags": []
          },
          "execution_count": 47
        }
      ]
    },
    {
      "cell_type": "code",
      "metadata": {
        "colab": {
          "base_uri": "https://localhost:8080/"
        },
        "id": "UXnjtoU29ojx",
        "outputId": "67ae4132-9866-47e8-de7e-90353fd0524d"
      },
      "source": [
        "b_gs_add_categ = gs.best_estimator_\r\n",
        "b_gs_add_categ.fit(X_train, y_train)\r\n",
        "y_pred = b_gs_add_categ.predict(X_test)\r\n",
        "test_model(b_gs_add_categ)"
      ],
      "execution_count": 48,
      "outputs": [
        {
          "output_type": "stream",
          "text": [
            "mean_absolute_error: 0.28133886615996073\n",
            "median_absolute_error: 0.1808802928352582\n",
            "mean_squared_error: 0.18917870334450723\n",
            "r2_score: 0.11706133184901579\n"
          ],
          "name": "stdout"
        }
      ]
    },
    {
      "cell_type": "markdown",
      "metadata": {
        "id": "S0XERBFsyDhD"
      },
      "source": [
        "##Classification"
      ]
    },
    {
      "cell_type": "code",
      "metadata": {
        "id": "ecPLZ60yjHk4"
      },
      "source": [
        "full_df = new_df.copy()\r\n",
        "full_df.drop('Type_Imputed', axis=1, inplace=True)"
      ],
      "execution_count": 49,
      "outputs": []
    },
    {
      "cell_type": "code",
      "metadata": {
        "colab": {
          "base_uri": "https://localhost:8080/"
        },
        "id": "sosZ4NvMxrdK",
        "outputId": "c2159e1f-391f-475c-8bdf-2f2556a5e51e"
      },
      "source": [
        "from sklearn.neighbors import KNeighborsClassifier\r\n",
        "\r\n",
        "missing_columns = ['Type']\r\n",
        "deter_data = pd.DataFrame(columns = [\"Det\" + name for name in missing_columns])\r\n",
        "\r\n",
        "for feature in missing_columns:\r\n",
        "        \r\n",
        "    deter_data[\"Det\" + feature] = full_df[feature]\r\n",
        "    parameters = list(set(full_df.columns) - set(missing_columns) - {'Category'} - {'Genres'})\r\n",
        "    X_train = full_df[full_df['Type'].notnull()]\r\n",
        "    X_train.drop(['Category', 'Genres', 'Type'], axis=1, inplace=True)\r\n",
        "    scaler = StandardScaler()\r\n",
        "    X_train = scaler.fit_transform(X_train)\r\n",
        "    y_train = full_df[full_df['Type'].notnull()]['Type']\r\n",
        "    #y_train = le.fit_transform(y_train)\r\n",
        "    \r\n",
        "    #Create a Linear Regression model to estimate the missing data\r\n",
        "    model = KNeighborsClassifier(n_neighbors=5)\r\n",
        "    model.fit(X = X_train, y = y_train)\r\n",
        "    \r\n",
        "    #observe that I preserve the index of the missing data from the original dataframe\r\n",
        "    deter_data.loc[full_df[feature].isnull(), \"Det\" + feature] = model.predict(full_df[parameters])[full_df[feature].isnull()]"
      ],
      "execution_count": 50,
      "outputs": [
        {
          "output_type": "stream",
          "text": [
            "/usr/local/lib/python3.6/dist-packages/pandas/core/frame.py:4174: SettingWithCopyWarning: \n",
            "A value is trying to be set on a copy of a slice from a DataFrame\n",
            "\n",
            "See the caveats in the documentation: https://pandas.pydata.org/pandas-docs/stable/user_guide/indexing.html#returning-a-view-versus-a-copy\n",
            "  errors=errors,\n"
          ],
          "name": "stderr"
        }
      ]
    },
    {
      "cell_type": "code",
      "metadata": {
        "colab": {
          "base_uri": "https://localhost:8080/"
        },
        "id": "IMC78IWRxrfQ",
        "outputId": "39b888fe-73ff-42d3-b066-be7677e0d462"
      },
      "source": [
        "deter_data.isnull().sum()"
      ],
      "execution_count": null,
      "outputs": [
        {
          "output_type": "execute_result",
          "data": {
            "text/plain": [
              "DetType    0\n",
              "dtype: int64"
            ]
          },
          "metadata": {
            "tags": []
          },
          "execution_count": 54
        }
      ]
    },
    {
      "cell_type": "code",
      "metadata": {
        "colab": {
          "base_uri": "https://localhost:8080/"
        },
        "id": "jOExYrqVxrlh",
        "outputId": "2bae2e67-de40-4bf7-dde0-a0ba9921a9d0"
      },
      "source": [
        "full_df['Type'] = deter_data['DetType']\r\n",
        "full_df.isnull().sum()"
      ],
      "execution_count": 51,
      "outputs": [
        {
          "output_type": "execute_result",
          "data": {
            "text/plain": [
              "Category          0\n",
              "Rating            0\n",
              "Reviews           0\n",
              "Size              0\n",
              "Installs          0\n",
              "Type              0\n",
              "Price             0\n",
              "Content Rating    0\n",
              "Genres            0\n",
              "Category_num      0\n",
              "Genres_num        0\n",
              "dtype: int64"
            ]
          },
          "metadata": {
            "tags": []
          },
          "execution_count": 51
        }
      ]
    },
    {
      "cell_type": "code",
      "metadata": {
        "colab": {
          "base_uri": "https://localhost:8080/",
          "height": 352
        },
        "id": "pTx5rmeyxrpd",
        "outputId": "89d99f6b-b3e7-4fd9-d206-360711400795"
      },
      "source": [
        "sns.heatmap(full_df.corr(), annot=True, fmt='.3f')"
      ],
      "execution_count": null,
      "outputs": [
        {
          "output_type": "execute_result",
          "data": {
            "text/plain": [
              "<matplotlib.axes._subplots.AxesSubplot at 0x7ff8c8d469b0>"
            ]
          },
          "metadata": {
            "tags": []
          },
          "execution_count": 56
        },
        {
          "output_type": "display_data",
          "data": {
            "image/png": "[encoded data removed]",
            "text/plain": [
              "<Figure size 432x288 with 2 Axes>"
            ]
          },
          "metadata": {
            "tags": [],
            "needs_background": "light"
          }
        }
      ]
    },
    {
      "cell_type": "code",
      "metadata": {
        "colab": {
          "base_uri": "https://localhost:8080/"
        },
        "id": "YxodHw_CBlGv",
        "outputId": "6a080039-8bd9-4369-a52a-908cb6f44620"
      },
      "source": [
        "type_num = le.fit_transform(full_df['Type'])\r\n",
        "full_df['Type'] = type_num\r\n",
        "print(np.unique(full_df['Type']))"
      ],
      "execution_count": 52,
      "outputs": [
        {
          "output_type": "stream",
          "text": [
            "[0 1]\n"
          ],
          "name": "stdout"
        }
      ]
    },
    {
      "cell_type": "code",
      "metadata": {
        "colab": {
          "base_uri": "https://localhost:8080/",
          "height": 282
        },
        "id": "n3ZgeHogBXOJ",
        "outputId": "34e5d792-c277-4145-c318-fc4c6b7b353e"
      },
      "source": [
        "#X = full_df.drop([\"Rating\", \"Category_num\", \"Category\", \"Genres\"], axis=1)\r\n",
        "X = full_df.drop([\"Rating\", \"Price\", \"Category_num\", \"Category\", \"Genres\"], axis=1)\r\n",
        "y_classif = full_df[\"Rating\"]\r\n",
        "\r\n",
        "columns = X.columns\r\n",
        "scaler = StandardScaler()\r\n",
        "X_classif = scaler.fit_transform(X)\r\n",
        "pd.DataFrame(X_classif, columns=columns).describe()"
      ],
      "execution_count": 53,
      "outputs": [
        {
          "output_type": "execute_result",
          "data": {
            "text/html": [
              "<div>\n",
              "<style scoped>\n",
              "    .dataframe tbody tr th:only-of-type {\n",
              "        vertical-align: middle;\n",
              "    }\n",
              "\n",
              "    .dataframe tbody tr th {\n",
              "        vertical-align: top;\n",
              "    }\n",
              "\n",
              "    .dataframe thead th {\n",
              "        text-align: right;\n",
              "    }\n",
              "</style>\n",
              "<table border=\"1\" class=\"dataframe\">\n",
              "  <thead>\n",
              "    <tr style=\"text-align: right;\">\n",
              "      <th></th>\n",
              "      <th>Reviews</th>\n",
              "      <th>Size</th>\n",
              "      <th>Installs</th>\n",
              "      <th>Type</th>\n",
              "      <th>Content Rating</th>\n",
              "      <th>Genres_num</th>\n",
              "    </tr>\n",
              "  </thead>\n",
              "  <tbody>\n",
              "    <tr>\n",
              "      <th>count</th>\n",
              "      <td>1.084000e+04</td>\n",
              "      <td>1.084000e+04</td>\n",
              "      <td>1.084000e+04</td>\n",
              "      <td>1.084000e+04</td>\n",
              "      <td>1.084000e+04</td>\n",
              "      <td>1.084000e+04</td>\n",
              "    </tr>\n",
              "    <tr>\n",
              "      <th>mean</th>\n",
              "      <td>-1.296690e-16</td>\n",
              "      <td>8.623458e-16</td>\n",
              "      <td>1.651623e-16</td>\n",
              "      <td>3.295939e-15</td>\n",
              "      <td>4.811086e-16</td>\n",
              "      <td>-8.467645e-15</td>\n",
              "    </tr>\n",
              "    <tr>\n",
              "      <th>std</th>\n",
              "      <td>1.000046e+00</td>\n",
              "      <td>1.000046e+00</td>\n",
              "      <td>1.000046e+00</td>\n",
              "      <td>1.000046e+00</td>\n",
              "      <td>1.000046e+00</td>\n",
              "      <td>1.000046e+00</td>\n",
              "    </tr>\n",
              "    <tr>\n",
              "      <th>min</th>\n",
              "      <td>-1.517110e-01</td>\n",
              "      <td>-1.036705e+00</td>\n",
              "      <td>-1.818790e-01</td>\n",
              "      <td>-2.687113e-01</td>\n",
              "      <td>-1.456148e+00</td>\n",
              "      <td>-1.968561e+00</td>\n",
              "    </tr>\n",
              "    <tr>\n",
              "      <th>25%</th>\n",
              "      <td>-1.516980e-01</td>\n",
              "      <td>-7.527294e-01</td>\n",
              "      <td>-1.818672e-01</td>\n",
              "      <td>-2.687113e-01</td>\n",
              "      <td>-4.622153e-01</td>\n",
              "      <td>-8.045318e-01</td>\n",
              "    </tr>\n",
              "    <tr>\n",
              "      <th>50%</th>\n",
              "      <td>-1.509957e-01</td>\n",
              "      <td>-1.694996e-01</td>\n",
              "      <td>-1.807028e-01</td>\n",
              "      <td>-2.687113e-01</td>\n",
              "      <td>-4.622153e-01</td>\n",
              "      <td>8.380663e-02</td>\n",
              "    </tr>\n",
              "    <tr>\n",
              "      <th>75%</th>\n",
              "      <td>-1.330011e-01</td>\n",
              "      <td>2.161069e-01</td>\n",
              "      <td>-1.230730e-01</td>\n",
              "      <td>-2.687113e-01</td>\n",
              "      <td>-4.622153e-01</td>\n",
              "      <td>9.721450e-01</td>\n",
              "    </tr>\n",
              "    <tr>\n",
              "      <th>max</th>\n",
              "      <td>2.654511e+01</td>\n",
              "      <td>3.782967e+00</td>\n",
              "      <td>1.157931e+01</td>\n",
              "      <td>3.721467e+00</td>\n",
              "      <td>3.513515e+00</td>\n",
              "      <td>1.646057e+00</td>\n",
              "    </tr>\n",
              "  </tbody>\n",
              "</table>\n",
              "</div>"
            ],
            "text/plain": [
              "            Reviews          Size  ...  Content Rating    Genres_num\n",
              "count  1.084000e+04  1.084000e+04  ...    1.084000e+04  1.084000e+04\n",
              "mean  -1.296690e-16  8.623458e-16  ...    4.811086e-16 -8.467645e-15\n",
              "std    1.000046e+00  1.000046e+00  ...    1.000046e+00  1.000046e+00\n",
              "min   -1.517110e-01 -1.036705e+00  ...   -1.456148e+00 -1.968561e+00\n",
              "25%   -1.516980e-01 -7.527294e-01  ...   -4.622153e-01 -8.045318e-01\n",
              "50%   -1.509957e-01 -1.694996e-01  ...   -4.622153e-01  8.380663e-02\n",
              "75%   -1.330011e-01  2.161069e-01  ...   -4.622153e-01  9.721450e-01\n",
              "max    2.654511e+01  3.782967e+00  ...    3.513515e+00  1.646057e+00\n",
              "\n",
              "[8 rows x 6 columns]"
            ]
          },
          "metadata": {
            "tags": []
          },
          "execution_count": 53
        }
      ]
    },
    {
      "cell_type": "code",
      "metadata": {
        "id": "iK-oC7kuxrsu"
      },
      "source": [
        "X_train, X_test, y_train, y_test = train_test_split(X_classif, y_classif,\r\n",
        "                            test_size=0.2, random_state=88888888)"
      ],
      "execution_count": 54,
      "outputs": []
    },
    {
      "cell_type": "code",
      "metadata": {
        "colab": {
          "base_uri": "https://localhost:8080/"
        },
        "id": "XyvwY2pB-BTS",
        "outputId": "66e1f833-88e0-4dd5-fa6c-e89a752cdc75"
      },
      "source": [
        "lin_classif = LinearRegression()\r\n",
        "lin_classif.fit(X_train, y_train)\r\n",
        "test_model(lin_classif)"
      ],
      "execution_count": 55,
      "outputs": [
        {
          "output_type": "stream",
          "text": [
            "mean_absolute_error: 0.304514279668469\n",
            "median_absolute_error: 0.22137447479453742\n",
            "mean_squared_error: 0.21174752717655076\n",
            "r2_score: 0.011727661072604478\n"
          ],
          "name": "stdout"
        }
      ]
    },
    {
      "cell_type": "code",
      "metadata": {
        "colab": {
          "base_uri": "https://localhost:8080/"
        },
        "id": "6Li8cIHu-BuF",
        "outputId": "a6fbdb25-ba9f-4898-eb81-10808cd82395"
      },
      "source": [
        "tuned_parameters = {\r\n",
        "    \"n_estimators\": np.arange(1, 252, 10), # default 100\r\n",
        "}\r\n",
        "\r\n",
        "gs = GridSearchCV(BaggingRegressor(), tuned_parameters,\r\n",
        "                  cv=ShuffleSplit(n_splits=10), scoring=\"r2\",\r\n",
        "                  return_train_score=True, n_jobs=-1)\r\n",
        "gs.fit(X_train, y_train)\r\n",
        "gs.best_estimator_"
      ],
      "execution_count": 56,
      "outputs": [
        {
          "output_type": "execute_result",
          "data": {
            "text/plain": [
              "BaggingRegressor(base_estimator=None, bootstrap=True, bootstrap_features=False,\n",
              "                 max_features=1.0, max_samples=1.0, n_estimators=251,\n",
              "                 n_jobs=None, oob_score=False, random_state=None, verbose=0,\n",
              "                 warm_start=False)"
            ]
          },
          "metadata": {
            "tags": []
          },
          "execution_count": 56
        }
      ]
    },
    {
      "cell_type": "code",
      "metadata": {
        "colab": {
          "base_uri": "https://localhost:8080/"
        },
        "id": "yltRFb24-HEB",
        "outputId": "1c6bdd0e-e267-4e77-ff07-96338ad20d58"
      },
      "source": [
        "b_gs_classif = gs.best_estimator_\r\n",
        "b_gs_classif.fit(X_train, y_train)\r\n",
        "y_pred = b_gs_classif.predict(X_test)\r\n",
        "test_model(b_gs_classif)"
      ],
      "execution_count": 57,
      "outputs": [
        {
          "output_type": "stream",
          "text": [
            "mean_absolute_error: 0.27875106900641994\n",
            "median_absolute_error: 0.17296102797862245\n",
            "mean_squared_error: 0.18713060100439374\n",
            "r2_score: 0.12662027648943652\n"
          ],
          "name": "stdout"
        }
      ]
    },
    {
      "cell_type": "code",
      "metadata": {
        "id": "ZuEowtfGBIF0"
      },
      "source": [
        "class MetricLogger:\r\n",
        "    \r\n",
        "    def __init__(self):\r\n",
        "        self.df = pd.DataFrame(\r\n",
        "            {'metric': pd.Series([], dtype='str'),\r\n",
        "            'alg': pd.Series([], dtype='str'),\r\n",
        "            'value': pd.Series([], dtype='float')})\r\n",
        "\r\n",
        "    def add(self, metric, alg, value):\r\n",
        "        \"\"\"\r\n",
        "        Добавление значения\r\n",
        "        \"\"\"\r\n",
        "        # Удаление значения если оно уже было ранее добавлено\r\n",
        "        self.df.drop(self.df[(self.df['metric']==metric)&(self.df['alg']==alg)].index, inplace = True)\r\n",
        "        # Добавление нового значения\r\n",
        "        temp = [{'metric':metric, 'alg':alg, 'value':value}]\r\n",
        "        self.df = self.df.append(temp, ignore_index=True)\r\n",
        "\r\n",
        "    def get_data_for_metric(self, metric, ascending=True):\r\n",
        "        \"\"\"\r\n",
        "        Формирование данных с фильтром по метрике\r\n",
        "        \"\"\"\r\n",
        "        temp_data = self.df[self.df['metric']==metric]\r\n",
        "        temp_data_2 = temp_data.sort_values(by='value', ascending=ascending)\r\n",
        "        return temp_data_2['alg'].values, temp_data_2['value'].values\r\n",
        "    \r\n",
        "    def plot(self, str_header, metric, ascending=True, figsize=(5, 5)):\r\n",
        "        \"\"\"\r\n",
        "        Вывод графика\r\n",
        "        \"\"\"\r\n",
        "        array_labels, array_metric = self.get_data_for_metric(metric, ascending)\r\n",
        "        fig, ax1 = plt.subplots(figsize=figsize)\r\n",
        "        pos = np.arange(len(array_metric))\r\n",
        "        rects = ax1.barh(pos, array_metric,\r\n",
        "                         align='center',\r\n",
        "                         height=0.5, \r\n",
        "                         tick_label=array_labels)\r\n",
        "        ax1.set_title(str_header)\r\n",
        "        for a,b in zip(pos, array_metric):\r\n",
        "            plt.text(0.5, a-0.05, str(round(b,3)), color='black')\r\n",
        "        plt.show()  "
      ],
      "execution_count": 58,
      "outputs": []
    },
    {
      "cell_type": "code",
      "metadata": {
        "id": "iUcJCbSNBII3"
      },
      "source": [
        "# Модели\r\n",
        "regr_models = {'Mode': {'model': lin_mode, 'X': X_mode, 'y': y_mode},\r\n",
        "               'Add var':{'model': lin_add_var, 'X': X_add_var, 'y': y_add_var},\r\n",
        "               'Add category':{'model': lin_add_categ, 'X': X_add_categ, 'y': y_add_categ},\r\n",
        "               'Classification KNN':{'model': lin_classif, 'X': X_classif, 'y': y_classif},\r\n",
        "              }"
      ],
      "execution_count": 59,
      "outputs": []
    },
    {
      "cell_type": "code",
      "metadata": {
        "id": "STJuVfbSCS5B"
      },
      "source": [
        "regrMetricLogger = MetricLogger()"
      ],
      "execution_count": 60,
      "outputs": []
    },
    {
      "cell_type": "code",
      "metadata": {
        "id": "QXlNPzoUCS7n"
      },
      "source": [
        "def regr_train_model(model_name, model, X, y, regrMetricLogger):\r\n",
        "    X_train, X_test, y_train, y_test = train_test_split(X, y,\r\n",
        "                            test_size=0.2, random_state=88888888)\r\n",
        "    model.fit(X_train, y_train)\r\n",
        "    y_pred = model.predict(X_test)\r\n",
        "    \r\n",
        "    mae = mean_absolute_error(y_test, y_pred)\r\n",
        "    medae = median_absolute_error(y_test, y_pred)\r\n",
        "    mse = mean_squared_error(y_test, y_pred)\r\n",
        "    r2 = r2_score(y_test, y_pred)\r\n",
        "\r\n",
        "    regrMetricLogger.add('MAE', model_name, mae)\r\n",
        "    regrMetricLogger.add('MedAE', model_name, medae)\r\n",
        "    regrMetricLogger.add('MSE', model_name, mse)\r\n",
        "    regrMetricLogger.add('R2', model_name, r2)     \r\n",
        "    \r\n",
        "    print('*****************************************************')\r\n",
        "    print(model)\r\n",
        "    print()\r\n",
        "    print('MAE={}, MedAE={}, MSE={}, R2={}'.format(\r\n",
        "        round(mae, 3), round(medae, 3), round(mse, 3), round(r2, 3)))\r\n",
        "    print('*****************************************************')"
      ],
      "execution_count": 61,
      "outputs": []
    },
    {
      "cell_type": "code",
      "metadata": {
        "colab": {
          "base_uri": "https://localhost:8080/"
        },
        "id": "DZG7dbj_CTAx",
        "outputId": "4b062b37-4757-44ff-e420-a425d0551eb8"
      },
      "source": [
        "for model_name, model in regr_models.items():\r\n",
        "    regr_train_model(model_name, model['model'], model['X'], model['y'], regrMetricLogger)"
      ],
      "execution_count": 62,
      "outputs": [
        {
          "output_type": "stream",
          "text": [
            "*****************************************************\n",
            "LinearRegression(copy_X=True, fit_intercept=True, n_jobs=None, normalize=False)\n",
            "\n",
            "MAE=0.304, MedAE=0.221, MSE=0.212, R2=0.012\n",
            "*****************************************************\n",
            "*****************************************************\n",
            "LinearRegression(copy_X=True, fit_intercept=True, n_jobs=None, normalize=False)\n",
            "\n",
            "MAE=0.304, MedAE=0.221, MSE=0.212, R2=0.012\n",
            "*****************************************************\n",
            "*****************************************************\n",
            "LinearRegression(copy_X=True, fit_intercept=True, n_jobs=None, normalize=False)\n",
            "\n",
            "MAE=0.304, MedAE=0.22, MSE=0.212, R2=0.011\n",
            "*****************************************************\n",
            "*****************************************************\n",
            "LinearRegression(copy_X=True, fit_intercept=True, n_jobs=None, normalize=False)\n",
            "\n",
            "MAE=0.305, MedAE=0.221, MSE=0.212, R2=0.012\n",
            "*****************************************************\n"
          ],
          "name": "stdout"
        }
      ]
    },
    {
      "cell_type": "code",
      "metadata": {
        "colab": {
          "base_uri": "https://localhost:8080/",
          "height": 390
        },
        "id": "YS9op4qDCTDB",
        "outputId": "23b1c7c2-d517-4591-d163-81bb1cf21fc7"
      },
      "source": [
        "regrMetricLogger.plot('Метрика: ' + 'MAE', 'MAE', \r\n",
        "                      ascending=False, figsize=(7, 6))"
      ],
      "execution_count": 63,
      "outputs": [
        {
          "output_type": "display_data",
          "data": {
            "image/png": "[encoded data removed]",
            "text/plain": [
              "<Figure size 504x432 with 1 Axes>"
            ]
          },
          "metadata": {
            "tags": [],
            "needs_background": "light"
          }
        }
      ]
    },
    {
      "cell_type": "code",
      "metadata": {
        "colab": {
          "base_uri": "https://localhost:8080/",
          "height": 390
        },
        "id": "hyXS88F0DVHd",
        "outputId": "389c4844-c260-4d6c-83e0-57bafdc65bc1"
      },
      "source": [
        "regrMetricLogger.plot('Метрика: ' + 'MedAE', 'MedAE', \r\n",
        "                      ascending=False, figsize=(7, 6))"
      ],
      "execution_count": 64,
      "outputs": [
        {
          "output_type": "display_data",
          "data": {
            "image/png": "[encoded data removed]",
            "text/plain": [
              "<Figure size 504x432 with 1 Axes>"
            ]
          },
          "metadata": {
            "tags": [],
            "needs_background": "light"
          }
        }
      ]
    },
    {
      "cell_type": "code",
      "metadata": {
        "colab": {
          "base_uri": "https://localhost:8080/",
          "height": 390
        },
        "id": "Qt9E--jV-fQM",
        "outputId": "79131e85-5a80-48b1-f841-c3b84c6193e0"
      },
      "source": [
        "regrMetricLogger.plot('Метрика: ' + 'MSE', 'MSE',\r\n",
        "                      ascending=True, figsize=(7, 6))  "
      ],
      "execution_count": 65,
      "outputs": [
        {
          "output_type": "display_data",
          "data": {
            "image/png": "[encoded data removed]",
            "text/plain": [
              "<Figure size 504x432 with 1 Axes>"
            ]
          },
          "metadata": {
            "tags": [],
            "needs_background": "light"
          }
        }
      ]
    },
    {
      "cell_type": "code",
      "metadata": {
        "colab": {
          "base_uri": "https://localhost:8080/",
          "height": 410
        },
        "id": "UlI2am7xDVKU",
        "outputId": "20a23d72-f9b3-419b-923f-ddef2d840cd4"
      },
      "source": [
        "regrMetricLogger.plot('Метрика: ' + 'R2', 'R2',\r\n",
        "                      ascending=True, figsize=(7, 6))  "
      ],
      "execution_count": 66,
      "outputs": [
        {
          "output_type": "display_data",
          "data": {
            "image/png": "[encoded data removed]",
            "text/plain": [
              "<Figure size 504x432 with 1 Axes>"
            ]
          },
          "metadata": {
            "tags": [],
            "needs_background": "light"
          }
        }
      ]
    },
    {
      "cell_type": "markdown",
      "metadata": {
        "id": "F9xG2UnJMGk6"
      },
      "source": [
        "При заполнении пропусков в категориальной переменной отдам предпочтение введению дополнительной категории."
      ]
    },
    {
      "cell_type": "code",
      "metadata": {
        "id": "cGn_b-vE439Y"
      },
      "source": [
        "# Модели\r\n",
        "regr_models = {'Mode': {'model': b_gs_mode, 'X': X_mode, 'y': y_mode},\r\n",
        "               'Add var':{'model': b_gs_add_var, 'X': X_add_var, 'y': y_add_var},\r\n",
        "               'Add category':{'model': b_gs_add_categ, 'X': X_add_categ, 'y': y_add_categ},\r\n",
        "               'Classification KNN':{'model': b_gs_classif, 'X': X_classif, 'y': y_classif},\r\n",
        "              }"
      ],
      "execution_count": 67,
      "outputs": []
    },
    {
      "cell_type": "code",
      "metadata": {
        "id": "lE9SEN42-ipD"
      },
      "source": [
        "regrMetricLogger = MetricLogger()"
      ],
      "execution_count": 68,
      "outputs": []
    },
    {
      "cell_type": "code",
      "metadata": {
        "colab": {
          "base_uri": "https://localhost:8080/"
        },
        "id": "DnS941hx-iv7",
        "outputId": "e6f2bef8-22a8-4a60-a551-24ce86a103e5"
      },
      "source": [
        "for model_name, model in regr_models.items():\r\n",
        "    regr_train_model(model_name, model['model'], model['X'], model['y'], regrMetricLogger)"
      ],
      "execution_count": 69,
      "outputs": [
        {
          "output_type": "stream",
          "text": [
            "*****************************************************\n",
            "BaggingRegressor(base_estimator=None, bootstrap=True, bootstrap_features=False,\n",
            "                 max_features=1.0, max_samples=1.0, n_estimators=251,\n",
            "                 n_jobs=None, oob_score=False, random_state=None, verbose=0,\n",
            "                 warm_start=False)\n",
            "\n",
            "MAE=0.278, MedAE=0.172, MSE=0.188, R2=0.124\n",
            "*****************************************************\n",
            "*****************************************************\n",
            "BaggingRegressor(base_estimator=None, bootstrap=True, bootstrap_features=False,\n",
            "                 max_features=1.0, max_samples=1.0, n_estimators=241,\n",
            "                 n_jobs=None, oob_score=False, random_state=None, verbose=0,\n",
            "                 warm_start=False)\n",
            "\n",
            "MAE=0.279, MedAE=0.171, MSE=0.188, R2=0.122\n",
            "*****************************************************\n",
            "*****************************************************\n",
            "BaggingRegressor(base_estimator=None, bootstrap=True, bootstrap_features=False,\n",
            "                 max_features=1.0, max_samples=1.0, n_estimators=141,\n",
            "                 n_jobs=None, oob_score=False, random_state=None, verbose=0,\n",
            "                 warm_start=False)\n",
            "\n",
            "MAE=0.283, MedAE=0.18, MSE=0.189, R2=0.119\n",
            "*****************************************************\n",
            "*****************************************************\n",
            "BaggingRegressor(base_estimator=None, bootstrap=True, bootstrap_features=False,\n",
            "                 max_features=1.0, max_samples=1.0, n_estimators=251,\n",
            "                 n_jobs=None, oob_score=False, random_state=None, verbose=0,\n",
            "                 warm_start=False)\n",
            "\n",
            "MAE=0.278, MedAE=0.175, MSE=0.186, R2=0.131\n",
            "*****************************************************\n"
          ],
          "name": "stdout"
        }
      ]
    },
    {
      "cell_type": "code",
      "metadata": {
        "colab": {
          "base_uri": "https://localhost:8080/",
          "height": 390
        },
        "id": "aGCzJcqe-3l8",
        "outputId": "bb30ebff-3326-4840-adef-f64db5d399d3"
      },
      "source": [
        "regrMetricLogger.plot('Метрика: ' + 'MAE', 'MAE', \r\n",
        "                      ascending=False, figsize=(7, 6))"
      ],
      "execution_count": 70,
      "outputs": [
        {
          "output_type": "display_data",
          "data": {
            "image/png": "[encoded data removed]",
            "text/plain": [
              "<Figure size 504x432 with 1 Axes>"
            ]
          },
          "metadata": {
            "tags": [],
            "needs_background": "light"
          }
        }
      ]
    },
    {
      "cell_type": "code",
      "metadata": {
        "colab": {
          "base_uri": "https://localhost:8080/",
          "height": 390
        },
        "id": "3eKupDxt-3pc",
        "outputId": "6c319bfc-5023-4372-9718-a9ff0c94c623"
      },
      "source": [
        "regrMetricLogger.plot('Метрика: ' + 'MedAE', 'MedAE', \r\n",
        "                      ascending=False, figsize=(7, 6))"
      ],
      "execution_count": 71,
      "outputs": [
        {
          "output_type": "display_data",
          "data": {
            "image/png": "[encoded data removed]",
            "text/plain": [
              "<Figure size 504x432 with 1 Axes>"
            ]
          },
          "metadata": {
            "tags": [],
            "needs_background": "light"
          }
        }
      ]
    },
    {
      "cell_type": "code",
      "metadata": {
        "colab": {
          "base_uri": "https://localhost:8080/",
          "height": 390
        },
        "id": "X6ZyXtHx-30z",
        "outputId": "e0540478-bc6d-426a-ca65-ea8d59f39491"
      },
      "source": [
        "regrMetricLogger.plot('Метрика: ' + 'MSE', 'MSE', \r\n",
        "                      ascending=False, figsize=(7, 6))"
      ],
      "execution_count": 72,
      "outputs": [
        {
          "output_type": "display_data",
          "data": {
            "image/png": "[encoded data removed]",
            "text/plain": [
              "<Figure size 504x432 with 1 Axes>"
            ]
          },
          "metadata": {
            "tags": [],
            "needs_background": "light"
          }
        }
      ]
    },
    {
      "cell_type": "code",
      "metadata": {
        "colab": {
          "base_uri": "https://localhost:8080/",
          "height": 324
        },
        "id": "j5fAyhsN-38L",
        "outputId": "4467f404-f878-42f4-8eca-abb866c7764a"
      },
      "source": [
        "regrMetricLogger.plot('Метрика: ' + 'R2', 'R2', \r\n",
        "                      ascending=False, figsize=(7, 6))"
      ],
      "execution_count": 73,
      "outputs": [
        {
          "output_type": "display_data",
          "data": {
            "image/png": "[encoded data removed]",
            "text/plain": [
              "<Figure size 504x432 with 1 Axes>"
            ]
          },
          "metadata": {
            "tags": [],
            "needs_background": "light"
          }
        }
      ]
    },
    {
      "cell_type": "markdown",
      "metadata": {
        "id": "PQ5WuvVzDqkZ"
      },
      "source": [
        "Для модели Bagging импьютация с помощью введения дополнительной категории показывает результаты немного хуже, но отрыв не слишком большой."
      ]
    },
    {
      "cell_type": "code",
      "metadata": {
        "id": "gZLMLgE4-i02"
      },
      "source": [
        ""
      ],
      "execution_count": null,
      "outputs": []
    },
    {
      "cell_type": "code",
      "metadata": {
        "id": "bpgHh0Y2-i5P"
      },
      "source": [
        ""
      ],
      "execution_count": null,
      "outputs": []
    }
  ]
}